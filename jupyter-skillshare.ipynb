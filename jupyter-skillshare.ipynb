{
 "cells": [
  {
   "cell_type": "markdown",
   "metadata": {},
   "source": [
    "# Using Python and Jupyter to analyze data\n",
    "\n",
    "This repo should teach you to use Jupyter notebooks as a analysis and visualization framework. \n"
   ]
  },
  {
   "cell_type": "markdown",
   "metadata": {},
   "source": [
    "## Getting started\n",
    "\n",
    "There are a number of ways to [install Jupyter](http://jupyter.readthedocs.io/en/latest/install.html), the most recommended being by using [Anaconda](https://www.continuum.io/downloads). I've never used Anaconda and find it easier to install with [Pip](https://pypi.python.org/pypi/pip) (A package manager for Python, think Python's `npm`,) preferably in a virtual environment. I like to use [Virtualenvwrapper](https://virtualenvwrapper.readthedocs.io/en/latest/).\n"
   ]
  },
  {
   "cell_type": "markdown",
   "metadata": {},
   "source": [
    "```bash\n",
    "$ mkvirtualenv jupyter-skillshare\n",
    "(jupyter-skillshare) $\n",
    "```"
   ]
  },
  {
   "cell_type": "markdown",
   "metadata": {},
   "source": [
    "The parentheses indicate that you're inside your virtualenv. If you need to exit the environment, you can type `deactivate`. To re-enter the virtual environment, type `workon jupyter-skillshare` (or whatever the name of your environment.)\n"
   ]
  },
  {
   "cell_type": "markdown",
   "metadata": {},
   "source": [
    "When you have your virtual env ready, clone the repo:"
   ]
  },
  {
   "cell_type": "markdown",
   "metadata": {},
   "source": [
    "```bash\n",
    "(jupyter-skillshare) $ git clone git@github.com:WPMedia/gfx-jupyter-skillshare.git jupyter-skillshare\n",
    "```"
   ]
  },
  {
   "cell_type": "markdown",
   "metadata": {},
   "source": [
    "Then use pip to install the requirements listed in requirements.txt (this may take a while)"
   ]
  },
  {
   "cell_type": "markdown",
   "metadata": {},
   "source": [
    "```bash\n",
    "(jupyter-skillshare) $ pip install -r requirements.txt\n",
    "```"
   ]
  },
  {
   "cell_type": "markdown",
   "metadata": {},
   "source": [
    "To boot up a notebook, type `jupyter notebook`"
   ]
  },
  {
   "cell_type": "markdown",
   "metadata": {},
   "source": [
    "```bash\n",
    "(jupyter-skillshare) $ jupyter notebook\n",
    "```"
   ]
  },
  {
   "cell_type": "markdown",
   "metadata": {},
   "source": [
    "Previously, this would've automatically opened up a browser window, but looks like there's a bug with the latest version of OSX. Open your notebook by going to [localhost:8888](http://localhost:8888)"
   ]
  },
  {
   "cell_type": "markdown",
   "metadata": {},
   "source": [
    "## Or, a quicker method\n",
    "\n",
    "Ben Welsh has a notebook server set up for his [\"First Python Notebook\"](http://www.firstpythonnotebook.org/) MOOC through the California Civic Data Coalition, and has kindly offered it for this skillshare. If you don't feel like going through the setup/install process, you can start up a server at http://notebooks.californiacivicdata.org/ (you'll need to sign in and authorize GitHub to use the server.) \n",
    "\n",
    "If you're interested in Python/Jupyter, you should take a look at that course. It's much more in-depth and gives you a much better idea of what's possible with Jupyter notebooks. "
   ]
  },
  {
   "cell_type": "markdown",
   "metadata": {},
   "source": [
    "After running `jupyter notebook` and going to localhost:8888 you should see a page that looks similar to this \n",
    "\n",
    "![Jupyter notebook homepage](img/jupyter_homepage.png)"
   ]
  },
  {
   "cell_type": "markdown",
   "metadata": {},
   "source": [
    "Click the `New` button to create a new Python notebook. You should see something like this, a mostly empty screen with one cell for text:\n",
    "\n",
    "![Empty notebook](img/empty_notebook.png)"
   ]
  },
  {
   "cell_type": "markdown",
   "metadata": {},
   "source": [
    "## Hello Python"
   ]
  },
  {
   "cell_type": "markdown",
   "metadata": {},
   "source": [
    "You can execute any python code in notebooks. The rendered output will appear below your current cell. If you need a starter on Python, [there's a notebook for that](https://notebooks.azure.com/Microsoft/libraries/samples/html/Introduction%20to%20Python.ipynb). "
   ]
  },
  {
   "cell_type": "code",
   "execution_count": 3,
   "metadata": {},
   "outputs": [
    {
     "name": "stdout",
     "output_type": "stream",
     "text": [
      "hello world!\n"
     ]
    }
   ],
   "source": [
    "print \"hello\" + \" world!\""
   ]
  },
  {
   "cell_type": "code",
   "execution_count": 4,
   "metadata": {},
   "outputs": [
    {
     "data": {
      "text/plain": [
       "4"
      ]
     },
     "execution_count": 4,
     "metadata": {},
     "output_type": "execute_result"
    }
   ],
   "source": [
    "2 + 2\n"
   ]
  },
  {
   "cell_type": "code",
   "execution_count": 10,
   "metadata": {},
   "outputs": [
    {
     "name": "stdout",
     "output_type": "stream",
     "text": [
      "0\n",
      "1\n",
      "2\n",
      "3\n",
      "4\n"
     ]
    }
   ],
   "source": [
    "for i in range(0, 5):\n",
    "    print i\n",
    "    "
   ]
  },
  {
   "cell_type": "markdown",
   "metadata": {},
   "source": [
    "Like Python in the interpreter or a script, undefined variables and syntax errors will throw errors. "
   ]
  },
  {
   "cell_type": "code",
   "execution_count": 8,
   "metadata": {},
   "outputs": [
    {
     "ename": "NameError",
     "evalue": "name 'undefined_variable' is not defined",
     "output_type": "error",
     "traceback": [
      "\u001b[0;31m---------------------------------------------------------------------------\u001b[0m",
      "\u001b[0;31mNameError\u001b[0m                                 Traceback (most recent call last)",
      "\u001b[0;32m<ipython-input-8-1a5308d3bd87>\u001b[0m in \u001b[0;36m<module>\u001b[0;34m()\u001b[0m\n\u001b[0;32m----> 1\u001b[0;31m \u001b[0;36m2\u001b[0m \u001b[0;34m+\u001b[0m \u001b[0mundefined_variable\u001b[0m\u001b[0;34m\u001b[0m\u001b[0m\n\u001b[0m",
      "\u001b[0;31mNameError\u001b[0m: name 'undefined_variable' is not defined"
     ]
    }
   ],
   "source": [
    "2 + undefined_variable"
   ]
  },
  {
   "cell_type": "code",
   "execution_count": null,
   "metadata": {
    "collapsed": true
   },
   "outputs": [],
   "source": [
    "for i in range(0,10)\n",
    "    print i"
   ]
  },
  {
   "cell_type": "markdown",
   "metadata": {},
   "source": [
    "## Hello Jupyter"
   ]
  },
  {
   "cell_type": "markdown",
   "metadata": {},
   "source": [
    "You may notice that our code is broken up into little snippets, or \"cells.\" Think of each cell as being broken up into a statement. And because they're reorganizeable (you can cut, paste, and shift cells up and down,) it's good for legibility and your sanity to keep statements short. "
   ]
  },
  {
   "cell_type": "markdown",
   "metadata": {},
   "source": [
    "You might also notice that we're mixing \"code\" cells with Markdown cells. This lets you keep detailed notes and documentation on your work as you go - more detailed than regular inline comments you might use in your code."
   ]
  },
  {
   "cell_type": "markdown",
   "metadata": {},
   "source": [
    "Python not your thing? You can install other language kernels to use with the notebook app, including [IRKernel](https://irkernel.github.io/) for R, or [IJavaScript](https://github.com/n-riesco/ijavascript) for JavaScript. You can see the [full list of kernels](https://github.com/jupyter/jupyter/wiki/Jupyter-kernels) available. \n",
    "\n",
    "And here are some instructions for [installing and running](https://www.datacamp.com/community/blog/jupyter-notebook-r#gs.6ggEhYw) an R kernel. "
   ]
  },
  {
   "cell_type": "markdown",
   "metadata": {},
   "source": [
    "### Some handy shortcuts\n",
    "\n",
    "`enter` - Enter cell edit mode\n",
    "\n",
    "`escape` - Enter command mode\n",
    "\n",
    "`shift-enter` - Run the cell\n",
    "\n",
    "`a` - Create cell above\n",
    "\n",
    "`b` - Create cell below\n",
    "\n",
    "`j` - Move to cell below\n",
    "\n",
    "`k` - Move to cell above\n",
    "\n",
    "`m` - Convert cell to Markdown\n",
    "\n",
    "`y` - Convert cell to code \n",
    "\n",
    "`s` - Save notebook"
   ]
  },
  {
   "cell_type": "markdown",
   "metadata": {},
   "source": [
    "## Hello Data "
   ]
  },
  {
   "cell_type": "markdown",
   "metadata": {},
   "source": [
    "Let's read in some data. We'll use data from MLB's [Statcast](https://baseballsavant.mlb.com/statcast_search). `data/nationals_pitch_data.csv` contains every pitch thrown by Washington Nationals pitchers this season. \n",
    "\n",
    "We'll read in the CSV as a [Pandas](http://pandas.pydata.org/pandas-docs/stable/) data frame. If you're familiar with data frames in R, you'll find that these work very simliarly. "
   ]
  },
  {
   "cell_type": "markdown",
   "metadata": {},
   "source": [
    "First, we need to import Pandas. We'll use a common alias so it's not so clunky to type. Usually this would happen at the top of a notebook but doing it here to illustrate the process."
   ]
  },
  {
   "cell_type": "code",
   "execution_count": 12,
   "metadata": {
    "collapsed": true
   },
   "outputs": [],
   "source": [
    "import pandas as pd"
   ]
  },
  {
   "cell_type": "markdown",
   "metadata": {},
   "source": [
    "Note that a little asterisk briefly appears in the brackets next to the cell, and then (hopefully) is replaced by a number. This means the code in the cell is running. "
   ]
  },
  {
   "cell_type": "markdown",
   "metadata": {},
   "source": [
    "We can read in the module using `read_csv`. Note that we add `na_values=\"null\"` because that is how NA values are included in the CSV. Otherwise, the cell values would be the string \"null\". "
   ]
  },
  {
   "cell_type": "code",
   "execution_count": 34,
   "metadata": {
    "collapsed": true
   },
   "outputs": [],
   "source": [
    "df = pd.read_csv('data/nationals_pitch_data.csv', na_values=\"null\")"
   ]
  },
  {
   "cell_type": "markdown",
   "metadata": {},
   "source": [
    "### Summarizing data"
   ]
  },
  {
   "cell_type": "markdown",
   "metadata": {},
   "source": [
    "There are a number of data summary functions we can use. First, check out the data using `head`."
   ]
  },
  {
   "cell_type": "code",
   "execution_count": 35,
   "metadata": {
    "scrolled": true
   },
   "outputs": [
    {
     "data": {
      "text/html": [
       "<div>\n",
       "<style>\n",
       "    .dataframe thead tr:only-child th {\n",
       "        text-align: right;\n",
       "    }\n",
       "\n",
       "    .dataframe thead th {\n",
       "        text-align: left;\n",
       "    }\n",
       "\n",
       "    .dataframe tbody tr th {\n",
       "        vertical-align: top;\n",
       "    }\n",
       "</style>\n",
       "<table border=\"1\" class=\"dataframe\">\n",
       "  <thead>\n",
       "    <tr style=\"text-align: right;\">\n",
       "      <th></th>\n",
       "      <th>pitch_type</th>\n",
       "      <th>game_date</th>\n",
       "      <th>release_speed</th>\n",
       "      <th>release_pos_x</th>\n",
       "      <th>release_pos_z</th>\n",
       "      <th>player_name</th>\n",
       "      <th>batter</th>\n",
       "      <th>pitcher</th>\n",
       "      <th>events</th>\n",
       "      <th>description</th>\n",
       "      <th>...</th>\n",
       "      <th>release_pos_y</th>\n",
       "      <th>estimated_ba_using_speedangle</th>\n",
       "      <th>estimated_woba_using_speedangle</th>\n",
       "      <th>woba_value</th>\n",
       "      <th>woba_denom</th>\n",
       "      <th>babip_value</th>\n",
       "      <th>iso_value</th>\n",
       "      <th>launch_speed_angle</th>\n",
       "      <th>at_bat_number</th>\n",
       "      <th>pitch_number</th>\n",
       "    </tr>\n",
       "  </thead>\n",
       "  <tbody>\n",
       "    <tr>\n",
       "      <th>0</th>\n",
       "      <td>SL</td>\n",
       "      <td>2017-06-25</td>\n",
       "      <td>79.8</td>\n",
       "      <td>2.6252</td>\n",
       "      <td>5.2493</td>\n",
       "      <td>Oliver Perez</td>\n",
       "      <td>458015</td>\n",
       "      <td>424144</td>\n",
       "      <td>strikeout</td>\n",
       "      <td>swinging_strike</td>\n",
       "      <td>...</td>\n",
       "      <td>54.8085</td>\n",
       "      <td>0.0</td>\n",
       "      <td>0.0</td>\n",
       "      <td>0.0</td>\n",
       "      <td>1.0</td>\n",
       "      <td>0.0</td>\n",
       "      <td>0.0</td>\n",
       "      <td>NaN</td>\n",
       "      <td>72</td>\n",
       "      <td>6</td>\n",
       "    </tr>\n",
       "    <tr>\n",
       "      <th>1</th>\n",
       "      <td>SI</td>\n",
       "      <td>2017-06-25</td>\n",
       "      <td>93.1</td>\n",
       "      <td>2.7662</td>\n",
       "      <td>5.3738</td>\n",
       "      <td>Oliver Perez</td>\n",
       "      <td>458015</td>\n",
       "      <td>424144</td>\n",
       "      <td>NaN</td>\n",
       "      <td>ball</td>\n",
       "      <td>...</td>\n",
       "      <td>53.9725</td>\n",
       "      <td>0.0</td>\n",
       "      <td>0.0</td>\n",
       "      <td>NaN</td>\n",
       "      <td>NaN</td>\n",
       "      <td>NaN</td>\n",
       "      <td>NaN</td>\n",
       "      <td>NaN</td>\n",
       "      <td>72</td>\n",
       "      <td>5</td>\n",
       "    </tr>\n",
       "    <tr>\n",
       "      <th>2</th>\n",
       "      <td>SL</td>\n",
       "      <td>2017-06-25</td>\n",
       "      <td>79.5</td>\n",
       "      <td>2.6793</td>\n",
       "      <td>5.1894</td>\n",
       "      <td>Oliver Perez</td>\n",
       "      <td>458015</td>\n",
       "      <td>424144</td>\n",
       "      <td>NaN</td>\n",
       "      <td>swinging_strike</td>\n",
       "      <td>...</td>\n",
       "      <td>54.8107</td>\n",
       "      <td>0.0</td>\n",
       "      <td>0.0</td>\n",
       "      <td>NaN</td>\n",
       "      <td>NaN</td>\n",
       "      <td>NaN</td>\n",
       "      <td>NaN</td>\n",
       "      <td>NaN</td>\n",
       "      <td>72</td>\n",
       "      <td>4</td>\n",
       "    </tr>\n",
       "    <tr>\n",
       "      <th>3</th>\n",
       "      <td>FF</td>\n",
       "      <td>2017-06-25</td>\n",
       "      <td>90.9</td>\n",
       "      <td>2.6775</td>\n",
       "      <td>5.4827</td>\n",
       "      <td>Oliver Perez</td>\n",
       "      <td>458015</td>\n",
       "      <td>424144</td>\n",
       "      <td>NaN</td>\n",
       "      <td>ball</td>\n",
       "      <td>...</td>\n",
       "      <td>54.4177</td>\n",
       "      <td>0.0</td>\n",
       "      <td>0.0</td>\n",
       "      <td>NaN</td>\n",
       "      <td>NaN</td>\n",
       "      <td>NaN</td>\n",
       "      <td>NaN</td>\n",
       "      <td>NaN</td>\n",
       "      <td>72</td>\n",
       "      <td>3</td>\n",
       "    </tr>\n",
       "    <tr>\n",
       "      <th>4</th>\n",
       "      <td>SI</td>\n",
       "      <td>2017-06-25</td>\n",
       "      <td>91.1</td>\n",
       "      <td>2.4475</td>\n",
       "      <td>5.3219</td>\n",
       "      <td>Oliver Perez</td>\n",
       "      <td>458015</td>\n",
       "      <td>424144</td>\n",
       "      <td>NaN</td>\n",
       "      <td>called_strike</td>\n",
       "      <td>...</td>\n",
       "      <td>54.2785</td>\n",
       "      <td>0.0</td>\n",
       "      <td>0.0</td>\n",
       "      <td>NaN</td>\n",
       "      <td>NaN</td>\n",
       "      <td>NaN</td>\n",
       "      <td>NaN</td>\n",
       "      <td>NaN</td>\n",
       "      <td>72</td>\n",
       "      <td>2</td>\n",
       "    </tr>\n",
       "  </tbody>\n",
       "</table>\n",
       "<p>5 rows × 78 columns</p>\n",
       "</div>"
      ],
      "text/plain": [
       "  pitch_type   game_date  release_speed  release_pos_x  release_pos_z  \\\n",
       "0         SL  2017-06-25           79.8         2.6252         5.2493   \n",
       "1         SI  2017-06-25           93.1         2.7662         5.3738   \n",
       "2         SL  2017-06-25           79.5         2.6793         5.1894   \n",
       "3         FF  2017-06-25           90.9         2.6775         5.4827   \n",
       "4         SI  2017-06-25           91.1         2.4475         5.3219   \n",
       "\n",
       "    player_name  batter  pitcher     events      description     ...       \\\n",
       "0  Oliver Perez  458015   424144  strikeout  swinging_strike     ...        \n",
       "1  Oliver Perez  458015   424144        NaN             ball     ...        \n",
       "2  Oliver Perez  458015   424144        NaN  swinging_strike     ...        \n",
       "3  Oliver Perez  458015   424144        NaN             ball     ...        \n",
       "4  Oliver Perez  458015   424144        NaN    called_strike     ...        \n",
       "\n",
       "   release_pos_y  estimated_ba_using_speedangle  \\\n",
       "0        54.8085                            0.0   \n",
       "1        53.9725                            0.0   \n",
       "2        54.8107                            0.0   \n",
       "3        54.4177                            0.0   \n",
       "4        54.2785                            0.0   \n",
       "\n",
       "   estimated_woba_using_speedangle  woba_value  woba_denom babip_value  \\\n",
       "0                              0.0         0.0         1.0         0.0   \n",
       "1                              0.0         NaN         NaN         NaN   \n",
       "2                              0.0         NaN         NaN         NaN   \n",
       "3                              0.0         NaN         NaN         NaN   \n",
       "4                              0.0         NaN         NaN         NaN   \n",
       "\n",
       "  iso_value launch_speed_angle at_bat_number pitch_number  \n",
       "0       0.0                NaN            72            6  \n",
       "1       NaN                NaN            72            5  \n",
       "2       NaN                NaN            72            4  \n",
       "3       NaN                NaN            72            3  \n",
       "4       NaN                NaN            72            2  \n",
       "\n",
       "[5 rows x 78 columns]"
      ]
     },
     "execution_count": 35,
     "metadata": {},
     "output_type": "execute_result"
    }
   ],
   "source": [
    "df.head()"
   ]
  },
  {
   "cell_type": "markdown",
   "metadata": {},
   "source": [
    "You can also see how many rows and columns are in the data with shape. We have data on more than 11,000 pitches, and 78 columns.  "
   ]
  },
  {
   "cell_type": "code",
   "execution_count": 36,
   "metadata": {
    "scrolled": true
   },
   "outputs": [
    {
     "data": {
      "text/plain": [
       "(11320, 78)"
      ]
     },
     "execution_count": 36,
     "metadata": {},
     "output_type": "execute_result"
    }
   ],
   "source": [
    "df.shape"
   ]
  },
  {
   "cell_type": "markdown",
   "metadata": {},
   "source": [
    "Another important command is `dtypes`, which provides the type of value in a column. \"Object\" is basically a string. "
   ]
  },
  {
   "cell_type": "code",
   "execution_count": 37,
   "metadata": {
    "scrolled": true
   },
   "outputs": [
    {
     "data": {
      "text/plain": [
       "pitch_type                          object\n",
       "game_date                           object\n",
       "release_speed                      float64\n",
       "release_pos_x                      float64\n",
       "release_pos_z                      float64\n",
       "player_name                         object\n",
       "batter                               int64\n",
       "pitcher                              int64\n",
       "events                              object\n",
       "description                         object\n",
       "spin_dir                           float64\n",
       "spin_rate_deprecated               float64\n",
       "break_angle_deprecated             float64\n",
       "break_length_deprecated            float64\n",
       "zone                               float64\n",
       "des                                 object\n",
       "game_type                           object\n",
       "stand                               object\n",
       "p_throws                            object\n",
       "home_team                           object\n",
       "away_team                           object\n",
       "type                                object\n",
       "hit_location                       float64\n",
       "bb_type                             object\n",
       "balls                                int64\n",
       "strikes                              int64\n",
       "game_year                            int64\n",
       "pfx_x                              float64\n",
       "pfx_z                              float64\n",
       "plate_x                            float64\n",
       "                                    ...   \n",
       "ay                                 float64\n",
       "az                                 float64\n",
       "sz_top                             float64\n",
       "sz_bot                             float64\n",
       "hit_distance_sc                    float64\n",
       "launch_speed                       float64\n",
       "launch_angle                       float64\n",
       "effective_speed                    float64\n",
       "release_spin_rate                  float64\n",
       "release_extension                  float64\n",
       "game_pk                              int64\n",
       "pos1_person_id                     float64\n",
       "pos2_person_id.1                   float64\n",
       "pos3_person_id                     float64\n",
       "pos4_person_id                     float64\n",
       "pos5_person_id                     float64\n",
       "pos6_person_id                     float64\n",
       "pos7_person_id                     float64\n",
       "pos8_person_id                     float64\n",
       "pos9_person_id                     float64\n",
       "release_pos_y                      float64\n",
       "estimated_ba_using_speedangle      float64\n",
       "estimated_woba_using_speedangle    float64\n",
       "woba_value                         float64\n",
       "woba_denom                         float64\n",
       "babip_value                        float64\n",
       "iso_value                          float64\n",
       "launch_speed_angle                 float64\n",
       "at_bat_number                        int64\n",
       "pitch_number                         int64\n",
       "Length: 78, dtype: object"
      ]
     },
     "execution_count": 37,
     "metadata": {},
     "output_type": "execute_result"
    }
   ],
   "source": [
    "df.dtypes"
   ]
  },
  {
   "cell_type": "markdown",
   "metadata": {},
   "source": [
    "You can also use `describe` to get an overview of data in a column. I find this easiest to read when summarising one or two columns at a time. "
   ]
  },
  {
   "cell_type": "code",
   "execution_count": 38,
   "metadata": {},
   "outputs": [
    {
     "data": {
      "text/plain": [
       "count    11091.000000\n",
       "mean        89.453485\n",
       "std          5.930706\n",
       "min         70.300000\n",
       "25%         85.400000\n",
       "50%         90.700000\n",
       "75%         94.000000\n",
       "max        101.500000\n",
       "Name: release_speed, dtype: float64"
      ]
     },
     "execution_count": 38,
     "metadata": {},
     "output_type": "execute_result"
    }
   ],
   "source": [
    "df['release_speed'].describe()"
   ]
  },
  {
   "cell_type": "markdown",
   "metadata": {},
   "source": [
    "### Grouping "
   ]
  },
  {
   "cell_type": "code",
   "execution_count": null,
   "metadata": {
    "collapsed": true
   },
   "outputs": [],
   "source": []
  },
  {
   "cell_type": "markdown",
   "metadata": {
    "collapsed": true
   },
   "source": [
    "## Hello Charts"
   ]
  },
  {
   "cell_type": "code",
   "execution_count": null,
   "metadata": {
    "collapsed": true
   },
   "outputs": [],
   "source": []
  },
  {
   "cell_type": "code",
   "execution_count": null,
   "metadata": {
    "collapsed": true
   },
   "outputs": [],
   "source": []
  },
  {
   "cell_type": "markdown",
   "metadata": {
    "collapsed": true
   },
   "source": [
    "## Hello maps!"
   ]
  },
  {
   "cell_type": "markdown",
   "metadata": {},
   "source": [
    "## Useful links\n",
    "\n",
    "- [California crop production wages analysis](https://github.com/datadesk/california-crop-production-wages-analysis) good example of how to integrate notebooks into the reporting and analysis process. \n",
    "- [Sample notebooks from Microsoft Azure](https://notebooks.azure.com/) includes overviews of using Python, R, etc.\n",
    "- [28 Jupyter Notebook tips, tricks and shortcuts](https://www.dataquest.io/blog/jupyter-notebook-tips-tricks-shortcuts/) \n",
    "- [10 Python notebook tutorials for data science and machine learning](http://www.kdnuggets.com/2016/04/top-10-ipython-nb-tutorials.html)"
   ]
  },
  {
   "cell_type": "code",
   "execution_count": null,
   "metadata": {
    "collapsed": true
   },
   "outputs": [],
   "source": []
  }
 ],
 "metadata": {
  "kernelspec": {
   "display_name": "Python 2",
   "language": "python",
   "name": "python2"
  },
  "language_info": {
   "codemirror_mode": {
    "name": "ipython",
    "version": 2
   },
   "file_extension": ".py",
   "mimetype": "text/x-python",
   "name": "python",
   "nbconvert_exporter": "python",
   "pygments_lexer": "ipython2",
   "version": "2.7.13"
  }
 },
 "nbformat": 4,
 "nbformat_minor": 2
}
