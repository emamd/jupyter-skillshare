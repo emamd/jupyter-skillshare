{
 "cells": [
  {
   "cell_type": "markdown",
   "metadata": {},
   "source": [
    "# Using Python and Jupyter to analyze data\n",
    "\n",
    "This repo should teach you to use Jupyter notebooks as a analysis and visualization framework. \n",
    "\n",
    "## Contents\n",
    "\n",
    "- [Getting Started](#Getting-started)\n",
    "- [Hello Python](#Hello-Python)\n",
    "- [Hello Jupyter](#Hello-Jupyter)\n",
    "- [Hello Data](#Hello-Data)\n",
    "- [Hello Charts](#Hello-Charts)\n",
    "- [Hello Maps!](#Hello-maps!)\n",
    "- [Useful Links](#Useful-links)\n"
   ]
  },
  {
   "cell_type": "markdown",
   "metadata": {},
   "source": [
    "## Getting started\n",
    "\n",
    "There are a number of ways to [install Jupyter](http://jupyter.readthedocs.io/en/latest/install.html), the most recommended being by using [Anaconda](https://www.continuum.io/downloads). I've never used Anaconda and find it easier to install with [Pip](https://pypi.python.org/pypi/pip) (A package manager for Python, think Python's `npm`,) preferably in a virtual environment. I like to use [Virtualenvwrapper](https://virtualenvwrapper.readthedocs.io/en/latest/).\n"
   ]
  },
  {
   "cell_type": "markdown",
   "metadata": {},
   "source": [
    "```bash\n",
    "$ mkvirtualenv jupyter-skillshare\n",
    "(jupyter-skillshare) $\n",
    "```"
   ]
  },
  {
   "cell_type": "markdown",
   "metadata": {},
   "source": [
    "The parentheses indicate that you're inside your virtualenv. If you need to exit the environment, you can type `deactivate`. To re-enter the virtual environment, type `workon jupyter-skillshare` (or whatever the name of your environment.)\n"
   ]
  },
  {
   "cell_type": "markdown",
   "metadata": {},
   "source": [
    "When you have your virtual env ready, clone the repo:"
   ]
  },
  {
   "cell_type": "markdown",
   "metadata": {},
   "source": [
    "```bash\n",
    "(jupyter-skillshare) $ git clone git@github.com:emamd/jupyter-skillshare.git jupyter-skillshare\n",
    "```"
   ]
  },
  {
   "cell_type": "markdown",
   "metadata": {},
   "source": [
    "Then use pip to install the requirements listed in requirements.txt (this may take a while)"
   ]
  },
  {
   "cell_type": "markdown",
   "metadata": {},
   "source": [
    "```bash\n",
    "(jupyter-skillshare) $ pip install -r requirements.txt\n",
    "```"
   ]
  },
  {
   "cell_type": "markdown",
   "metadata": {},
   "source": [
    "To boot up a notebook, type `jupyter notebook`"
   ]
  },
  {
   "cell_type": "markdown",
   "metadata": {},
   "source": [
    "```bash\n",
    "(jupyter-skillshare) $ jupyter notebook\n",
    "```"
   ]
  },
  {
   "cell_type": "markdown",
   "metadata": {},
   "source": [
    "Previously, this would've automatically opened up a browser window, but looks like there's a bug with the latest version of OSX. Open your notebook by going to [localhost:8888](http://localhost:8888)"
   ]
  },
  {
   "cell_type": "markdown",
   "metadata": {},
   "source": [
    "## Or, a quicker method\n",
    "\n",
    "[Ben Welsh](https://github.com/palewire) has a notebook server set up for his [\"First Python Notebook\"](http://www.firstpythonnotebook.org/) MOOC through the California Civic Data Coalition, and has kindly offered it for this skillshare. If you don't feel like going through the setup/install process, you can start up a server at http://notebooks.californiacivicdata.org/ (you'll need to sign in and authorize GitHub to use the server.) \n",
    "\n",
    "If you're interested in Python/Jupyter, you should take a look at that course. It's much more in-depth and gives you a much better idea of what's possible with Jupyter notebooks. "
   ]
  },
  {
   "cell_type": "markdown",
   "metadata": {},
   "source": [
    "After running `jupyter notebook` and going to localhost:8888 you should see a page that looks similar to this. \n",
    "\n",
    "![Jupyter notebook homepage](img/jupyter_homepage.png)\n",
    "\n",
    "\n",
    "Click the `New` button to create a new Python notebook. \n",
    "\n",
    "![Jupyter notebook homepage](img/new_notebook.gif)"
   ]
  },
  {
   "cell_type": "markdown",
   "metadata": {},
   "source": [
    "You should see something like this, a mostly empty screen with one cell for text:\n",
    "\n",
    "![Empty notebook](img/empty_notebook.png)"
   ]
  },
  {
   "cell_type": "markdown",
   "metadata": {},
   "source": [
    "## Hello Python"
   ]
  },
  {
   "cell_type": "markdown",
   "metadata": {},
   "source": [
    "You can execute any python code in notebooks. The rendered output will appear below your current cell. If you need a starter on Python, [there's a notebook for that](https://notebooks.azure.com/Microsoft/libraries/samples/html/Introduction%20to%20Python.ipynb). "
   ]
  },
  {
   "cell_type": "code",
   "execution_count": 2,
   "metadata": {},
   "outputs": [
    {
     "name": "stdout",
     "output_type": "stream",
     "text": [
      "hello world!\n"
     ]
    }
   ],
   "source": [
    "print(\"hello\" + \" world!\")"
   ]
  },
  {
   "cell_type": "code",
   "execution_count": 3,
   "metadata": {},
   "outputs": [
    {
     "data": {
      "text/plain": [
       "4"
      ]
     },
     "execution_count": 3,
     "metadata": {},
     "output_type": "execute_result"
    }
   ],
   "source": [
    "2 + 2"
   ]
  },
  {
   "cell_type": "code",
   "execution_count": 4,
   "metadata": {},
   "outputs": [
    {
     "name": "stdout",
     "output_type": "stream",
     "text": [
      "0\n",
      "1\n",
      "2\n",
      "3\n",
      "4\n"
     ]
    }
   ],
   "source": [
    "for i in range(0, 5):\n",
    "    print i "
   ]
  },
  {
   "cell_type": "markdown",
   "metadata": {},
   "source": [
    "Like Python in the interpreter or a script, undefined variables and syntax errors will throw errors. "
   ]
  },
  {
   "cell_type": "code",
   "execution_count": 5,
   "metadata": {},
   "outputs": [
    {
     "ename": "NameError",
     "evalue": "name 'undefined_variable' is not defined",
     "output_type": "error",
     "traceback": [
      "\u001b[0;31m---------------------------------------------------------------------------\u001b[0m",
      "\u001b[0;31mNameError\u001b[0m                                 Traceback (most recent call last)",
      "\u001b[0;32m<ipython-input-5-1a5308d3bd87>\u001b[0m in \u001b[0;36m<module>\u001b[0;34m()\u001b[0m\n\u001b[0;32m----> 1\u001b[0;31m \u001b[0;36m2\u001b[0m \u001b[0;34m+\u001b[0m \u001b[0mundefined_variable\u001b[0m\u001b[0;34m\u001b[0m\u001b[0m\n\u001b[0m",
      "\u001b[0;31mNameError\u001b[0m: name 'undefined_variable' is not defined"
     ]
    }
   ],
   "source": [
    "2 + undefined_variable"
   ]
  },
  {
   "cell_type": "code",
   "execution_count": 6,
   "metadata": {},
   "outputs": [
    {
     "ename": "SyntaxError",
     "evalue": "invalid syntax (<ipython-input-6-ed2d48f43235>, line 1)",
     "output_type": "error",
     "traceback": [
      "\u001b[0;36m  File \u001b[0;32m\"<ipython-input-6-ed2d48f43235>\"\u001b[0;36m, line \u001b[0;32m1\u001b[0m\n\u001b[0;31m    for i in range(0,10)\u001b[0m\n\u001b[0m                        ^\u001b[0m\n\u001b[0;31mSyntaxError\u001b[0m\u001b[0;31m:\u001b[0m invalid syntax\n"
     ]
    }
   ],
   "source": [
    "for i in range(0,10)\n",
    "    print i"
   ]
  },
  {
   "cell_type": "markdown",
   "metadata": {},
   "source": [
    "## Hello Jupyter"
   ]
  },
  {
   "cell_type": "markdown",
   "metadata": {},
   "source": [
    "You may notice that our code is broken up into little snippets, or \"cells.\" Think of each cell as being broken up into a statement. And because they're reorganizeable (you can cut, paste, and shift cells up and down,) it's good for legibility and your sanity to keep statements short. "
   ]
  },
  {
   "cell_type": "markdown",
   "metadata": {},
   "source": [
    "You might also notice that we're mixing \"code\" cells with Markdown cells. This lets you keep detailed notes and documentation on your work as you go - more detailed than regular inline comments you might use in your code."
   ]
  },
  {
   "cell_type": "markdown",
   "metadata": {},
   "source": [
    "Python not your thing? You can install other language kernels to use with the notebook app, including [IRKernel](https://irkernel.github.io/) for R, or [IJavaScript](https://github.com/n-riesco/ijavascript) for JavaScript. You can see the [full list of kernels](https://github.com/jupyter/jupyter/wiki/Jupyter-kernels) available. \n",
    "\n",
    "And here are some instructions for [installing and running](https://www.datacamp.com/community/blog/jupyter-notebook-r#gs.6ggEhYw) an R kernel. "
   ]
  },
  {
   "cell_type": "markdown",
   "metadata": {},
   "source": [
    "### Some handy shortcuts\n",
    "\n",
    "`enter` - Enter cell edit mode\n",
    "\n",
    "`escape` - Enter command mode\n",
    "\n",
    "`shift-enter` - Run the cell\n",
    "\n",
    "`a` - Create cell above\n",
    "\n",
    "`b` - Create cell below\n",
    "\n",
    "`j` - Move to cell below\n",
    "\n",
    "`k` - Move to cell above\n",
    "\n",
    "`m` - Convert cell to Markdown\n",
    "\n",
    "`y` - Convert cell to code \n",
    "\n",
    "`s` - Save notebook"
   ]
  },
  {
   "cell_type": "markdown",
   "metadata": {},
   "source": [
    "## Hello Data "
   ]
  },
  {
   "cell_type": "markdown",
   "metadata": {},
   "source": [
    "Let's read in some data. We'll use data from MLB's [Statcast](https://baseballsavant.mlb.com/statcast_search). `data/nationals_pitch_data.csv` contains every pitch thrown by Washington Nationals pitchers this season. \n",
    "\n",
    "We'll read in the CSV as a [Pandas](http://pandas.pydata.org/pandas-docs/stable/) data frame. If you're familiar with data frames in R, you'll find that these work very simliarly. "
   ]
  },
  {
   "cell_type": "markdown",
   "metadata": {},
   "source": [
    "First, we need to import Pandas. We'll use a common alias so it's not so clunky to type. Usually this would happen at the top of a notebook but doing it here to illustrate the process."
   ]
  },
  {
   "cell_type": "code",
   "execution_count": 7,
   "metadata": {
    "collapsed": true
   },
   "outputs": [],
   "source": [
    "import pandas as pd"
   ]
  },
  {
   "cell_type": "markdown",
   "metadata": {},
   "source": [
    "Note that a little asterisk briefly appears in the brackets next to the cell, and then (hopefully) is replaced by a number. This means the code in the cell is running. "
   ]
  },
  {
   "cell_type": "markdown",
   "metadata": {},
   "source": [
    "We can read in the module using `read_csv`. Note that we add `na_values=\"null\"` because that is how NA values are included in the CSV. Otherwise, the cell values would be the string \"null\". "
   ]
  },
  {
   "cell_type": "code",
   "execution_count": 8,
   "metadata": {
    "collapsed": true
   },
   "outputs": [],
   "source": [
    "df = pd.read_csv('data/nationals_pitch_data.csv', na_values=\"null\")"
   ]
  },
  {
   "cell_type": "markdown",
   "metadata": {},
   "source": [
    "### If you're using the server setup, and not the repo\n",
    "\n",
    "If you're not running this notebook locally, you'll have to download the data from the repo on GitHub. Here's how you do that. "
   ]
  },
  {
   "cell_type": "code",
   "execution_count": 9,
   "metadata": {},
   "outputs": [],
   "source": [
    "import io\n",
    "import requests\n",
    "\n",
    "# URL to request\n",
    "url = \"https://raw.githubusercontent.com/emamd/jupyter-skillshare/master/data/nationals_pitch_data.csv\"\n",
    "\n",
    "# Requests fetches the URL and returns the content\n",
    "csv_content = requests.get(url).content\n",
    "\n",
    "# Use io.StringIO to create a file-like object that can be used with read_csv()\n",
    "df = pd.read_csv(io.StringIO(csv_content.decode('utf-8')))"
   ]
  },
  {
   "cell_type": "markdown",
   "metadata": {},
   "source": [
    "### Summarizing data\n",
    "There are a number of data summary functions we can use. First, take a quick look at the data using `head`."
   ]
  },
  {
   "cell_type": "code",
   "execution_count": 10,
   "metadata": {
    "scrolled": true
   },
   "outputs": [
    {
     "data": {
      "text/html": [
       "<div>\n",
       "<style>\n",
       "    .dataframe thead tr:only-child th {\n",
       "        text-align: right;\n",
       "    }\n",
       "\n",
       "    .dataframe thead th {\n",
       "        text-align: left;\n",
       "    }\n",
       "\n",
       "    .dataframe tbody tr th {\n",
       "        vertical-align: top;\n",
       "    }\n",
       "</style>\n",
       "<table border=\"1\" class=\"dataframe\">\n",
       "  <thead>\n",
       "    <tr style=\"text-align: right;\">\n",
       "      <th></th>\n",
       "      <th>pitch_type</th>\n",
       "      <th>game_date</th>\n",
       "      <th>release_speed</th>\n",
       "      <th>release_pos_x</th>\n",
       "      <th>release_pos_z</th>\n",
       "      <th>player_name</th>\n",
       "      <th>batter</th>\n",
       "      <th>pitcher</th>\n",
       "      <th>events</th>\n",
       "      <th>description</th>\n",
       "      <th>...</th>\n",
       "      <th>release_pos_y</th>\n",
       "      <th>estimated_ba_using_speedangle</th>\n",
       "      <th>estimated_woba_using_speedangle</th>\n",
       "      <th>woba_value</th>\n",
       "      <th>woba_denom</th>\n",
       "      <th>babip_value</th>\n",
       "      <th>iso_value</th>\n",
       "      <th>launch_speed_angle</th>\n",
       "      <th>at_bat_number</th>\n",
       "      <th>pitch_number</th>\n",
       "    </tr>\n",
       "  </thead>\n",
       "  <tbody>\n",
       "    <tr>\n",
       "      <th>0</th>\n",
       "      <td>SL</td>\n",
       "      <td>2017-06-25</td>\n",
       "      <td>79.8</td>\n",
       "      <td>2.6252</td>\n",
       "      <td>5.2493</td>\n",
       "      <td>Oliver Perez</td>\n",
       "      <td>458015</td>\n",
       "      <td>424144</td>\n",
       "      <td>strikeout</td>\n",
       "      <td>swinging_strike</td>\n",
       "      <td>...</td>\n",
       "      <td>54.8085</td>\n",
       "      <td>0.0</td>\n",
       "      <td>0.0</td>\n",
       "      <td>0.00</td>\n",
       "      <td>1</td>\n",
       "      <td>0</td>\n",
       "      <td>0</td>\n",
       "      <td>null</td>\n",
       "      <td>72</td>\n",
       "      <td>6</td>\n",
       "    </tr>\n",
       "    <tr>\n",
       "      <th>1</th>\n",
       "      <td>SI</td>\n",
       "      <td>2017-06-25</td>\n",
       "      <td>93.1</td>\n",
       "      <td>2.7662</td>\n",
       "      <td>5.3738</td>\n",
       "      <td>Oliver Perez</td>\n",
       "      <td>458015</td>\n",
       "      <td>424144</td>\n",
       "      <td>null</td>\n",
       "      <td>ball</td>\n",
       "      <td>...</td>\n",
       "      <td>53.9725</td>\n",
       "      <td>0.0</td>\n",
       "      <td>0.0</td>\n",
       "      <td>null</td>\n",
       "      <td>null</td>\n",
       "      <td>null</td>\n",
       "      <td>null</td>\n",
       "      <td>null</td>\n",
       "      <td>72</td>\n",
       "      <td>5</td>\n",
       "    </tr>\n",
       "    <tr>\n",
       "      <th>2</th>\n",
       "      <td>SL</td>\n",
       "      <td>2017-06-25</td>\n",
       "      <td>79.5</td>\n",
       "      <td>2.6793</td>\n",
       "      <td>5.1894</td>\n",
       "      <td>Oliver Perez</td>\n",
       "      <td>458015</td>\n",
       "      <td>424144</td>\n",
       "      <td>null</td>\n",
       "      <td>swinging_strike</td>\n",
       "      <td>...</td>\n",
       "      <td>54.8107</td>\n",
       "      <td>0.0</td>\n",
       "      <td>0.0</td>\n",
       "      <td>null</td>\n",
       "      <td>null</td>\n",
       "      <td>null</td>\n",
       "      <td>null</td>\n",
       "      <td>null</td>\n",
       "      <td>72</td>\n",
       "      <td>4</td>\n",
       "    </tr>\n",
       "    <tr>\n",
       "      <th>3</th>\n",
       "      <td>FF</td>\n",
       "      <td>2017-06-25</td>\n",
       "      <td>90.9</td>\n",
       "      <td>2.6775</td>\n",
       "      <td>5.4827</td>\n",
       "      <td>Oliver Perez</td>\n",
       "      <td>458015</td>\n",
       "      <td>424144</td>\n",
       "      <td>null</td>\n",
       "      <td>ball</td>\n",
       "      <td>...</td>\n",
       "      <td>54.4177</td>\n",
       "      <td>0.0</td>\n",
       "      <td>0.0</td>\n",
       "      <td>null</td>\n",
       "      <td>null</td>\n",
       "      <td>null</td>\n",
       "      <td>null</td>\n",
       "      <td>null</td>\n",
       "      <td>72</td>\n",
       "      <td>3</td>\n",
       "    </tr>\n",
       "    <tr>\n",
       "      <th>4</th>\n",
       "      <td>SI</td>\n",
       "      <td>2017-06-25</td>\n",
       "      <td>91.1</td>\n",
       "      <td>2.4475</td>\n",
       "      <td>5.3219</td>\n",
       "      <td>Oliver Perez</td>\n",
       "      <td>458015</td>\n",
       "      <td>424144</td>\n",
       "      <td>null</td>\n",
       "      <td>called_strike</td>\n",
       "      <td>...</td>\n",
       "      <td>54.2785</td>\n",
       "      <td>0.0</td>\n",
       "      <td>0.0</td>\n",
       "      <td>null</td>\n",
       "      <td>null</td>\n",
       "      <td>null</td>\n",
       "      <td>null</td>\n",
       "      <td>null</td>\n",
       "      <td>72</td>\n",
       "      <td>2</td>\n",
       "    </tr>\n",
       "  </tbody>\n",
       "</table>\n",
       "<p>5 rows × 78 columns</p>\n",
       "</div>"
      ],
      "text/plain": [
       "  pitch_type   game_date release_speed release_pos_x release_pos_z  \\\n",
       "0         SL  2017-06-25          79.8        2.6252        5.2493   \n",
       "1         SI  2017-06-25          93.1        2.7662        5.3738   \n",
       "2         SL  2017-06-25          79.5        2.6793        5.1894   \n",
       "3         FF  2017-06-25          90.9        2.6775        5.4827   \n",
       "4         SI  2017-06-25          91.1        2.4475        5.3219   \n",
       "\n",
       "    player_name  batter  pitcher     events      description     ...       \\\n",
       "0  Oliver Perez  458015   424144  strikeout  swinging_strike     ...        \n",
       "1  Oliver Perez  458015   424144       null             ball     ...        \n",
       "2  Oliver Perez  458015   424144       null  swinging_strike     ...        \n",
       "3  Oliver Perez  458015   424144       null             ball     ...        \n",
       "4  Oliver Perez  458015   424144       null    called_strike     ...        \n",
       "\n",
       "   release_pos_y  estimated_ba_using_speedangle  \\\n",
       "0        54.8085                            0.0   \n",
       "1        53.9725                            0.0   \n",
       "2        54.8107                            0.0   \n",
       "3        54.4177                            0.0   \n",
       "4        54.2785                            0.0   \n",
       "\n",
       "   estimated_woba_using_speedangle  woba_value woba_denom babip_value  \\\n",
       "0                              0.0        0.00          1           0   \n",
       "1                              0.0        null       null        null   \n",
       "2                              0.0        null       null        null   \n",
       "3                              0.0        null       null        null   \n",
       "4                              0.0        null       null        null   \n",
       "\n",
       "  iso_value launch_speed_angle at_bat_number pitch_number  \n",
       "0         0               null            72            6  \n",
       "1      null               null            72            5  \n",
       "2      null               null            72            4  \n",
       "3      null               null            72            3  \n",
       "4      null               null            72            2  \n",
       "\n",
       "[5 rows x 78 columns]"
      ]
     },
     "execution_count": 10,
     "metadata": {},
     "output_type": "execute_result"
    }
   ],
   "source": [
    "df.head()"
   ]
  },
  {
   "cell_type": "markdown",
   "metadata": {},
   "source": [
    "You can also see how many rows and columns are in the data with `.shape`. We have data on more than 11,000 pitches, and 78 columns.  "
   ]
  },
  {
   "cell_type": "code",
   "execution_count": 11,
   "metadata": {
    "scrolled": true
   },
   "outputs": [
    {
     "data": {
      "text/plain": [
       "(11320, 78)"
      ]
     },
     "execution_count": 11,
     "metadata": {},
     "output_type": "execute_result"
    }
   ],
   "source": [
    "df.shape"
   ]
  },
  {
   "cell_type": "markdown",
   "metadata": {},
   "source": [
    "Another important command is `dtypes`, which provides the type of value in a column. \"Object\" is basically a string. "
   ]
  },
  {
   "cell_type": "code",
   "execution_count": 12,
   "metadata": {
    "scrolled": true
   },
   "outputs": [
    {
     "data": {
      "text/plain": [
       "pitch_type                          object\n",
       "game_date                           object\n",
       "release_speed                       object\n",
       "release_pos_x                       object\n",
       "release_pos_z                       object\n",
       "player_name                         object\n",
       "batter                               int64\n",
       "pitcher                              int64\n",
       "events                              object\n",
       "description                         object\n",
       "spin_dir                           float64\n",
       "spin_rate_deprecated               float64\n",
       "break_angle_deprecated             float64\n",
       "break_length_deprecated            float64\n",
       "zone                                object\n",
       "des                                 object\n",
       "game_type                           object\n",
       "stand                               object\n",
       "p_throws                            object\n",
       "home_team                           object\n",
       "away_team                           object\n",
       "type                                object\n",
       "hit_location                        object\n",
       "bb_type                             object\n",
       "balls                                int64\n",
       "strikes                              int64\n",
       "game_year                            int64\n",
       "pfx_x                               object\n",
       "pfx_z                               object\n",
       "plate_x                             object\n",
       "                                    ...   \n",
       "ay                                 float64\n",
       "az                                 float64\n",
       "sz_top                              object\n",
       "sz_bot                              object\n",
       "hit_distance_sc                     object\n",
       "launch_speed                        object\n",
       "launch_angle                        object\n",
       "effective_speed                     object\n",
       "release_spin_rate                   object\n",
       "release_extension                   object\n",
       "game_pk                              int64\n",
       "pos1_person_id                      object\n",
       "pos2_person_id.1                    object\n",
       "pos3_person_id                      object\n",
       "pos4_person_id                      object\n",
       "pos5_person_id                      object\n",
       "pos6_person_id                      object\n",
       "pos7_person_id                      object\n",
       "pos8_person_id                      object\n",
       "pos9_person_id                      object\n",
       "release_pos_y                       object\n",
       "estimated_ba_using_speedangle      float64\n",
       "estimated_woba_using_speedangle    float64\n",
       "woba_value                          object\n",
       "woba_denom                          object\n",
       "babip_value                         object\n",
       "iso_value                           object\n",
       "launch_speed_angle                  object\n",
       "at_bat_number                        int64\n",
       "pitch_number                         int64\n",
       "Length: 78, dtype: object"
      ]
     },
     "execution_count": 12,
     "metadata": {},
     "output_type": "execute_result"
    }
   ],
   "source": [
    "df.dtypes"
   ]
  },
  {
   "cell_type": "markdown",
   "metadata": {},
   "source": [
    "You can also do this for an individual column. If you look, the `release_speed` column is listed as an object (a string in Pandas). "
   ]
  },
  {
   "cell_type": "code",
   "execution_count": 47,
   "metadata": {},
   "outputs": [
    {
     "data": {
      "text/plain": [
       "dtype('O')"
      ]
     },
     "execution_count": 47,
     "metadata": {},
     "output_type": "execute_result"
    }
   ],
   "source": [
    "df[\"release_speed\"].dtype"
   ]
  },
  {
   "cell_type": "markdown",
   "metadata": {},
   "source": [
    "This should be a numeric value instead of a float so let's convert it - you'll find we do that a lot.  We'll use the `assign` function to do that. Since this r"
   ]
  },
  {
   "cell_type": "code",
   "execution_count": 51,
   "metadata": {},
   "outputs": [],
   "source": [
    "# Convert release speed to a numeric value, coerce all errors into NaN\n",
    "df = df.assign(release_speed = lambda x: pd.to_numeric(x[\"release_speed\"], errors='coerce'))"
   ]
  },
  {
   "cell_type": "markdown",
   "metadata": {},
   "source": [
    "You can also use `describe` to get an overview of data in a column. I find this easiest to read when summarising one or two columns at a time. This provides summary info like min/max, mean, count, standard deviation and percentile break points."
   ]
  },
  {
   "cell_type": "code",
   "execution_count": 52,
   "metadata": {},
   "outputs": [
    {
     "data": {
      "text/plain": [
       "count    11091.000000\n",
       "mean        89.453485\n",
       "std          5.930706\n",
       "min         70.300000\n",
       "25%         85.400000\n",
       "50%         90.700000\n",
       "75%         94.000000\n",
       "max        101.500000\n",
       "Name: release_speed, dtype: float64"
      ]
     },
     "execution_count": 52,
     "metadata": {},
     "output_type": "execute_result"
    }
   ],
   "source": [
    "df['release_speed'].describe()"
   ]
  },
  {
   "cell_type": "markdown",
   "metadata": {},
   "source": [
    "For a column with string values, this will give the number of unique values, as well as the most frequent value in the list. It looks like Tanner Roark has thrown the most pitches this season. "
   ]
  },
  {
   "cell_type": "code",
   "execution_count": 15,
   "metadata": {
    "scrolled": true
   },
   "outputs": [
    {
     "data": {
      "text/plain": [
       "count            11320\n",
       "unique              18\n",
       "top       Tanner Roark\n",
       "freq              1662\n",
       "Name: player_name, dtype: object"
      ]
     },
     "execution_count": 15,
     "metadata": {},
     "output_type": "execute_result"
    }
   ],
   "source": [
    "df['player_name'].describe()"
   ]
  },
  {
   "cell_type": "markdown",
   "metadata": {},
   "source": [
    "### Grouping and filtering"
   ]
  },
  {
   "cell_type": "markdown",
   "metadata": {},
   "source": [
    "Let's group these by pitcher. We can group using one or more columns, or a function, but in this case let's just use the \"player_name\" column."
   ]
  },
  {
   "cell_type": "code",
   "execution_count": 16,
   "metadata": {
    "collapsed": true
   },
   "outputs": [],
   "source": [
    "by_pitcher = df.groupby(['player_name'])"
   ]
  },
  {
   "cell_type": "markdown",
   "metadata": {},
   "source": [
    "Now you can see how many items are in each column, kind of like a pivot table. It's important though to remember that each of these contain a reference to that subset of the table. `.size()` gives us a \"series\" (basically a list of values) with counts of how many times the the pitchers appear in the table. "
   ]
  },
  {
   "cell_type": "code",
   "execution_count": 17,
   "metadata": {
    "scrolled": true
   },
   "outputs": [
    {
     "data": {
      "text/plain": [
       "player_name\n",
       "A.J. Cole             109\n",
       "Blake Treinen         520\n",
       "Enny Romero           642\n",
       "Gio Gonzalez         1581\n",
       "Jacob Turner          558\n",
       "Jeremy Guthrie         47\n",
       "Joe Blanton           363\n",
       "Joe Ross              939\n",
       "Koda Glover           317\n",
       "Matt Albers           437\n",
       "Matt Grace            172\n",
       "Max Scherzer         1617\n",
       "Oliver Perez          293\n",
       "Sammy Solis            72\n",
       "Shawn Kelley          361\n",
       "Stephen Strasburg    1568\n",
       "Tanner Roark         1662\n",
       "Trevor Gott            62\n",
       "dtype: int64"
      ]
     },
     "execution_count": 17,
     "metadata": {},
     "output_type": "execute_result"
    }
   ],
   "source": [
    "by_pitcher.size()"
   ]
  },
  {
   "cell_type": "markdown",
   "metadata": {},
   "source": [
    "It's easier to read if we sort it. "
   ]
  },
  {
   "cell_type": "code",
   "execution_count": 18,
   "metadata": {},
   "outputs": [
    {
     "data": {
      "text/plain": [
       "player_name\n",
       "Tanner Roark         1662\n",
       "Max Scherzer         1617\n",
       "Gio Gonzalez         1581\n",
       "Stephen Strasburg    1568\n",
       "Joe Ross              939\n",
       "Enny Romero           642\n",
       "Jacob Turner          558\n",
       "Blake Treinen         520\n",
       "Matt Albers           437\n",
       "Joe Blanton           363\n",
       "Shawn Kelley          361\n",
       "Koda Glover           317\n",
       "Oliver Perez          293\n",
       "Matt Grace            172\n",
       "A.J. Cole             109\n",
       "Sammy Solis            72\n",
       "Trevor Gott            62\n",
       "Jeremy Guthrie         47\n",
       "dtype: int64"
      ]
     },
     "execution_count": 18,
     "metadata": {},
     "output_type": "execute_result"
    }
   ],
   "source": [
    "by_pitcher.size().sort_values(ascending=False)"
   ]
  },
  {
   "cell_type": "markdown",
   "metadata": {},
   "source": [
    "Let's make this a little more complex - who's thrown the most strikeouts? First let's use `unique` to see all the different type of \"events\" there are. "
   ]
  },
  {
   "cell_type": "code",
   "execution_count": 19,
   "metadata": {
    "scrolled": true
   },
   "outputs": [
    {
     "data": {
      "text/plain": [
       "array(['strikeout', 'null', 'field_out', 'single', 'double',\n",
       "       'grounded_into_double_play', 'force_out', 'walk', 'home_run',\n",
       "       'sac_fly', 'sac_bunt', 'hit_by_pitch', 'intent_walk', 'field_error',\n",
       "       'triple', 'double_play', 'fielders_choice_out',\n",
       "       'caught_stealing_2b', 'catcher_interf', 'strikeout_double_play',\n",
       "       'fielders_choice'], dtype=object)"
      ]
     },
     "execution_count": 19,
     "metadata": {},
     "output_type": "execute_result"
    }
   ],
   "source": [
    "df['events'].unique()"
   ]
  },
  {
   "cell_type": "markdown",
   "metadata": {},
   "source": [
    "We can then filter for just strikeouts and do the same groupby query. "
   ]
  },
  {
   "cell_type": "code",
   "execution_count": 20,
   "metadata": {
    "collapsed": true
   },
   "outputs": [],
   "source": [
    "by_strikeouts = df[df['events'] == 'strikeout'].groupby('player_name')"
   ]
  },
  {
   "cell_type": "markdown",
   "metadata": {},
   "source": [
    "Looks like Max Scherzer has the most strikeouts, with 144 - not surprising!"
   ]
  },
  {
   "cell_type": "code",
   "execution_count": 21,
   "metadata": {
    "scrolled": false
   },
   "outputs": [
    {
     "data": {
      "text/plain": [
       "player_name\n",
       "Max Scherzer         144\n",
       "Stephen Strasburg    109\n",
       "Gio Gonzalez          86\n",
       "Tanner Roark          75\n",
       "Joe Ross              52\n",
       "Enny Romero           39\n",
       "Matt Albers           33\n",
       "Blake Treinen         27\n",
       "Oliver Perez          21\n",
       "Shawn Kelley          20\n",
       "Jacob Turner          19\n",
       "Koda Glover           17\n",
       "Joe Blanton           16\n",
       "Matt Grace             4\n",
       "Sammy Solis            3\n",
       "Trevor Gott            2\n",
       "A.J. Cole              1\n",
       "dtype: int64"
      ]
     },
     "execution_count": 21,
     "metadata": {},
     "output_type": "execute_result"
    }
   ],
   "source": [
    "by_strikeouts.size().sort_values(ascending=False)"
   ]
  },
  {
   "cell_type": "markdown",
   "metadata": {},
   "source": [
    "Let's filter down to just Max Scherzer's pitch data. First, let's subset it from the main dataset. We can do this one of two ways. "
   ]
  },
  {
   "cell_type": "markdown",
   "metadata": {},
   "source": [
    "The first, by grabbing from the pitcher grouping:"
   ]
  },
  {
   "cell_type": "code",
   "execution_count": 22,
   "metadata": {
    "collapsed": true
   },
   "outputs": [],
   "source": [
    "scherzer = by_pitcher.get_group('Max Scherzer')"
   ]
  },
  {
   "cell_type": "markdown",
   "metadata": {},
   "source": [
    "Or we could filter from the main data frame using `.query()`:"
   ]
  },
  {
   "cell_type": "code",
   "execution_count": 23,
   "metadata": {
    "collapsed": true
   },
   "outputs": [],
   "source": [
    "scherzer = df.query('player_name == \"Max Scherzer\"')"
   ]
  },
  {
   "cell_type": "markdown",
   "metadata": {},
   "source": [
    "Or you could use a boolean filter like this:"
   ]
  },
  {
   "cell_type": "code",
   "execution_count": 24,
   "metadata": {
    "collapsed": true
   },
   "outputs": [],
   "source": [
    "scherzer = df[df['player_name'] == 'Max Scherzer']"
   ]
  },
  {
   "cell_type": "code",
   "execution_count": 25,
   "metadata": {},
   "outputs": [
    {
     "data": {
      "text/html": [
       "<div>\n",
       "<style>\n",
       "    .dataframe thead tr:only-child th {\n",
       "        text-align: right;\n",
       "    }\n",
       "\n",
       "    .dataframe thead th {\n",
       "        text-align: left;\n",
       "    }\n",
       "\n",
       "    .dataframe tbody tr th {\n",
       "        vertical-align: top;\n",
       "    }\n",
       "</style>\n",
       "<table border=\"1\" class=\"dataframe\">\n",
       "  <thead>\n",
       "    <tr style=\"text-align: right;\">\n",
       "      <th></th>\n",
       "      <th>pitch_type</th>\n",
       "      <th>game_date</th>\n",
       "      <th>release_speed</th>\n",
       "      <th>release_pos_x</th>\n",
       "      <th>release_pos_z</th>\n",
       "      <th>player_name</th>\n",
       "      <th>batter</th>\n",
       "      <th>pitcher</th>\n",
       "      <th>events</th>\n",
       "      <th>description</th>\n",
       "      <th>...</th>\n",
       "      <th>release_pos_y</th>\n",
       "      <th>estimated_ba_using_speedangle</th>\n",
       "      <th>estimated_woba_using_speedangle</th>\n",
       "      <th>woba_value</th>\n",
       "      <th>woba_denom</th>\n",
       "      <th>babip_value</th>\n",
       "      <th>iso_value</th>\n",
       "      <th>launch_speed_angle</th>\n",
       "      <th>at_bat_number</th>\n",
       "      <th>pitch_number</th>\n",
       "    </tr>\n",
       "  </thead>\n",
       "  <tbody>\n",
       "    <tr>\n",
       "      <th>448</th>\n",
       "      <td>SL</td>\n",
       "      <td>2017-06-21</td>\n",
       "      <td>85.6</td>\n",
       "      <td>-3.5474</td>\n",
       "      <td>5.0513</td>\n",
       "      <td>Max Scherzer</td>\n",
       "      <td>519317</td>\n",
       "      <td>453286</td>\n",
       "      <td>single</td>\n",
       "      <td>hit_into_play_score</td>\n",
       "      <td>...</td>\n",
       "      <td>54.6938</td>\n",
       "      <td>0.836</td>\n",
       "      <td>0.864</td>\n",
       "      <td>0.90</td>\n",
       "      <td>1</td>\n",
       "      <td>1</td>\n",
       "      <td>0</td>\n",
       "      <td>5</td>\n",
       "      <td>57</td>\n",
       "      <td>6</td>\n",
       "    </tr>\n",
       "    <tr>\n",
       "      <th>449</th>\n",
       "      <td>CH</td>\n",
       "      <td>2017-06-21</td>\n",
       "      <td>86.0</td>\n",
       "      <td>-3.5535</td>\n",
       "      <td>4.9535</td>\n",
       "      <td>Max Scherzer</td>\n",
       "      <td>519317</td>\n",
       "      <td>453286</td>\n",
       "      <td>null</td>\n",
       "      <td>foul</td>\n",
       "      <td>...</td>\n",
       "      <td>54.4714</td>\n",
       "      <td>0.000</td>\n",
       "      <td>0.000</td>\n",
       "      <td>null</td>\n",
       "      <td>null</td>\n",
       "      <td>null</td>\n",
       "      <td>null</td>\n",
       "      <td>null</td>\n",
       "      <td>57</td>\n",
       "      <td>5</td>\n",
       "    </tr>\n",
       "    <tr>\n",
       "      <th>450</th>\n",
       "      <td>FF</td>\n",
       "      <td>2017-06-21</td>\n",
       "      <td>95.0</td>\n",
       "      <td>-3.4496</td>\n",
       "      <td>5.1209</td>\n",
       "      <td>Max Scherzer</td>\n",
       "      <td>519317</td>\n",
       "      <td>453286</td>\n",
       "      <td>null</td>\n",
       "      <td>ball</td>\n",
       "      <td>...</td>\n",
       "      <td>54.2523</td>\n",
       "      <td>0.000</td>\n",
       "      <td>0.000</td>\n",
       "      <td>null</td>\n",
       "      <td>null</td>\n",
       "      <td>null</td>\n",
       "      <td>null</td>\n",
       "      <td>null</td>\n",
       "      <td>57</td>\n",
       "      <td>4</td>\n",
       "    </tr>\n",
       "    <tr>\n",
       "      <th>451</th>\n",
       "      <td>SL</td>\n",
       "      <td>2017-06-21</td>\n",
       "      <td>86.8</td>\n",
       "      <td>-3.2084</td>\n",
       "      <td>5.3810</td>\n",
       "      <td>Max Scherzer</td>\n",
       "      <td>519317</td>\n",
       "      <td>453286</td>\n",
       "      <td>null</td>\n",
       "      <td>foul</td>\n",
       "      <td>...</td>\n",
       "      <td>54.4901</td>\n",
       "      <td>0.000</td>\n",
       "      <td>0.000</td>\n",
       "      <td>null</td>\n",
       "      <td>null</td>\n",
       "      <td>null</td>\n",
       "      <td>null</td>\n",
       "      <td>4</td>\n",
       "      <td>57</td>\n",
       "      <td>3</td>\n",
       "    </tr>\n",
       "    <tr>\n",
       "      <th>452</th>\n",
       "      <td>FF</td>\n",
       "      <td>2017-06-21</td>\n",
       "      <td>96.0</td>\n",
       "      <td>-3.5136</td>\n",
       "      <td>4.9165</td>\n",
       "      <td>Max Scherzer</td>\n",
       "      <td>519317</td>\n",
       "      <td>453286</td>\n",
       "      <td>null</td>\n",
       "      <td>ball</td>\n",
       "      <td>...</td>\n",
       "      <td>54.2919</td>\n",
       "      <td>0.000</td>\n",
       "      <td>0.000</td>\n",
       "      <td>null</td>\n",
       "      <td>null</td>\n",
       "      <td>null</td>\n",
       "      <td>null</td>\n",
       "      <td>null</td>\n",
       "      <td>57</td>\n",
       "      <td>2</td>\n",
       "    </tr>\n",
       "  </tbody>\n",
       "</table>\n",
       "<p>5 rows × 78 columns</p>\n",
       "</div>"
      ],
      "text/plain": [
       "    pitch_type   game_date release_speed release_pos_x release_pos_z  \\\n",
       "448         SL  2017-06-21          85.6       -3.5474        5.0513   \n",
       "449         CH  2017-06-21          86.0       -3.5535        4.9535   \n",
       "450         FF  2017-06-21          95.0       -3.4496        5.1209   \n",
       "451         SL  2017-06-21          86.8       -3.2084        5.3810   \n",
       "452         FF  2017-06-21          96.0       -3.5136        4.9165   \n",
       "\n",
       "      player_name  batter  pitcher  events          description     ...       \\\n",
       "448  Max Scherzer  519317   453286  single  hit_into_play_score     ...        \n",
       "449  Max Scherzer  519317   453286    null                 foul     ...        \n",
       "450  Max Scherzer  519317   453286    null                 ball     ...        \n",
       "451  Max Scherzer  519317   453286    null                 foul     ...        \n",
       "452  Max Scherzer  519317   453286    null                 ball     ...        \n",
       "\n",
       "     release_pos_y  estimated_ba_using_speedangle  \\\n",
       "448        54.6938                          0.836   \n",
       "449        54.4714                          0.000   \n",
       "450        54.2523                          0.000   \n",
       "451        54.4901                          0.000   \n",
       "452        54.2919                          0.000   \n",
       "\n",
       "     estimated_woba_using_speedangle  woba_value woba_denom babip_value  \\\n",
       "448                            0.864        0.90          1           1   \n",
       "449                            0.000        null       null        null   \n",
       "450                            0.000        null       null        null   \n",
       "451                            0.000        null       null        null   \n",
       "452                            0.000        null       null        null   \n",
       "\n",
       "    iso_value launch_speed_angle at_bat_number pitch_number  \n",
       "448         0                  5            57            6  \n",
       "449      null               null            57            5  \n",
       "450      null               null            57            4  \n",
       "451      null                  4            57            3  \n",
       "452      null               null            57            2  \n",
       "\n",
       "[5 rows x 78 columns]"
      ]
     },
     "execution_count": 25,
     "metadata": {},
     "output_type": "execute_result"
    }
   ],
   "source": [
    "scherzer.head()"
   ]
  },
  {
   "cell_type": "markdown",
   "metadata": {},
   "source": [
    "There's more than one way to do it! "
   ]
  },
  {
   "cell_type": "markdown",
   "metadata": {},
   "source": [
    "### Working with dates"
   ]
  },
  {
   "cell_type": "markdown",
   "metadata": {},
   "source": [
    "If you look, our `game_date` column is objects (strings). We can use .to_datetime() to convert this to a datetime object. We'll use `.assign()` to create the new `game_date_dt` column. "
   ]
  },
  {
   "cell_type": "code",
   "execution_count": 26,
   "metadata": {
    "scrolled": true
   },
   "outputs": [],
   "source": [
    "scherzer = scherzer.assign(game_date_dt = pd.to_datetime(scherzer['game_date']))"
   ]
  },
  {
   "cell_type": "markdown",
   "metadata": {},
   "source": [
    "Like python datetime objects, you can extract different values from the date. Let's pull out the month each game was played. "
   ]
  },
  {
   "cell_type": "code",
   "execution_count": 27,
   "metadata": {
    "scrolled": true
   },
   "outputs": [],
   "source": [
    "scherzer = scherzer.assign(game_month = scherzer['game_date_dt'].dt.month)"
   ]
  },
  {
   "cell_type": "code",
   "execution_count": 40,
   "metadata": {},
   "outputs": [
    {
     "data": {
      "text/html": [
       "<div>\n",
       "<style>\n",
       "    .dataframe thead tr:only-child th {\n",
       "        text-align: right;\n",
       "    }\n",
       "\n",
       "    .dataframe thead th {\n",
       "        text-align: left;\n",
       "    }\n",
       "\n",
       "    .dataframe tbody tr th {\n",
       "        vertical-align: top;\n",
       "    }\n",
       "</style>\n",
       "<table border=\"1\" class=\"dataframe\">\n",
       "  <thead>\n",
       "    <tr style=\"text-align: right;\">\n",
       "      <th></th>\n",
       "      <th>pitch_type</th>\n",
       "      <th>game_date</th>\n",
       "      <th>release_speed</th>\n",
       "      <th>release_pos_x</th>\n",
       "      <th>release_pos_z</th>\n",
       "      <th>player_name</th>\n",
       "      <th>batter</th>\n",
       "      <th>pitcher</th>\n",
       "      <th>events</th>\n",
       "      <th>description</th>\n",
       "      <th>...</th>\n",
       "      <th>estimated_woba_using_speedangle</th>\n",
       "      <th>woba_value</th>\n",
       "      <th>woba_denom</th>\n",
       "      <th>babip_value</th>\n",
       "      <th>iso_value</th>\n",
       "      <th>launch_speed_angle</th>\n",
       "      <th>at_bat_number</th>\n",
       "      <th>pitch_number</th>\n",
       "      <th>game_date_dt</th>\n",
       "      <th>game_month</th>\n",
       "    </tr>\n",
       "  </thead>\n",
       "  <tbody>\n",
       "    <tr>\n",
       "      <th>448</th>\n",
       "      <td>SL</td>\n",
       "      <td>2017-06-21</td>\n",
       "      <td>85.6</td>\n",
       "      <td>-3.5474</td>\n",
       "      <td>5.0513</td>\n",
       "      <td>Max Scherzer</td>\n",
       "      <td>519317</td>\n",
       "      <td>453286</td>\n",
       "      <td>single</td>\n",
       "      <td>hit_into_play_score</td>\n",
       "      <td>...</td>\n",
       "      <td>0.864</td>\n",
       "      <td>0.90</td>\n",
       "      <td>1</td>\n",
       "      <td>1</td>\n",
       "      <td>0</td>\n",
       "      <td>5</td>\n",
       "      <td>57</td>\n",
       "      <td>6</td>\n",
       "      <td>2017-06-21</td>\n",
       "      <td>6</td>\n",
       "    </tr>\n",
       "    <tr>\n",
       "      <th>449</th>\n",
       "      <td>CH</td>\n",
       "      <td>2017-06-21</td>\n",
       "      <td>86.0</td>\n",
       "      <td>-3.5535</td>\n",
       "      <td>4.9535</td>\n",
       "      <td>Max Scherzer</td>\n",
       "      <td>519317</td>\n",
       "      <td>453286</td>\n",
       "      <td>null</td>\n",
       "      <td>foul</td>\n",
       "      <td>...</td>\n",
       "      <td>0.000</td>\n",
       "      <td>null</td>\n",
       "      <td>null</td>\n",
       "      <td>null</td>\n",
       "      <td>null</td>\n",
       "      <td>null</td>\n",
       "      <td>57</td>\n",
       "      <td>5</td>\n",
       "      <td>2017-06-21</td>\n",
       "      <td>6</td>\n",
       "    </tr>\n",
       "    <tr>\n",
       "      <th>450</th>\n",
       "      <td>FF</td>\n",
       "      <td>2017-06-21</td>\n",
       "      <td>95.0</td>\n",
       "      <td>-3.4496</td>\n",
       "      <td>5.1209</td>\n",
       "      <td>Max Scherzer</td>\n",
       "      <td>519317</td>\n",
       "      <td>453286</td>\n",
       "      <td>null</td>\n",
       "      <td>ball</td>\n",
       "      <td>...</td>\n",
       "      <td>0.000</td>\n",
       "      <td>null</td>\n",
       "      <td>null</td>\n",
       "      <td>null</td>\n",
       "      <td>null</td>\n",
       "      <td>null</td>\n",
       "      <td>57</td>\n",
       "      <td>4</td>\n",
       "      <td>2017-06-21</td>\n",
       "      <td>6</td>\n",
       "    </tr>\n",
       "    <tr>\n",
       "      <th>451</th>\n",
       "      <td>SL</td>\n",
       "      <td>2017-06-21</td>\n",
       "      <td>86.8</td>\n",
       "      <td>-3.2084</td>\n",
       "      <td>5.3810</td>\n",
       "      <td>Max Scherzer</td>\n",
       "      <td>519317</td>\n",
       "      <td>453286</td>\n",
       "      <td>null</td>\n",
       "      <td>foul</td>\n",
       "      <td>...</td>\n",
       "      <td>0.000</td>\n",
       "      <td>null</td>\n",
       "      <td>null</td>\n",
       "      <td>null</td>\n",
       "      <td>null</td>\n",
       "      <td>4</td>\n",
       "      <td>57</td>\n",
       "      <td>3</td>\n",
       "      <td>2017-06-21</td>\n",
       "      <td>6</td>\n",
       "    </tr>\n",
       "    <tr>\n",
       "      <th>452</th>\n",
       "      <td>FF</td>\n",
       "      <td>2017-06-21</td>\n",
       "      <td>96.0</td>\n",
       "      <td>-3.5136</td>\n",
       "      <td>4.9165</td>\n",
       "      <td>Max Scherzer</td>\n",
       "      <td>519317</td>\n",
       "      <td>453286</td>\n",
       "      <td>null</td>\n",
       "      <td>ball</td>\n",
       "      <td>...</td>\n",
       "      <td>0.000</td>\n",
       "      <td>null</td>\n",
       "      <td>null</td>\n",
       "      <td>null</td>\n",
       "      <td>null</td>\n",
       "      <td>null</td>\n",
       "      <td>57</td>\n",
       "      <td>2</td>\n",
       "      <td>2017-06-21</td>\n",
       "      <td>6</td>\n",
       "    </tr>\n",
       "  </tbody>\n",
       "</table>\n",
       "<p>5 rows × 80 columns</p>\n",
       "</div>"
      ],
      "text/plain": [
       "    pitch_type   game_date release_speed release_pos_x release_pos_z  \\\n",
       "448         SL  2017-06-21          85.6       -3.5474        5.0513   \n",
       "449         CH  2017-06-21          86.0       -3.5535        4.9535   \n",
       "450         FF  2017-06-21          95.0       -3.4496        5.1209   \n",
       "451         SL  2017-06-21          86.8       -3.2084        5.3810   \n",
       "452         FF  2017-06-21          96.0       -3.5136        4.9165   \n",
       "\n",
       "      player_name  batter  pitcher  events          description    ...      \\\n",
       "448  Max Scherzer  519317   453286  single  hit_into_play_score    ...       \n",
       "449  Max Scherzer  519317   453286    null                 foul    ...       \n",
       "450  Max Scherzer  519317   453286    null                 ball    ...       \n",
       "451  Max Scherzer  519317   453286    null                 foul    ...       \n",
       "452  Max Scherzer  519317   453286    null                 ball    ...       \n",
       "\n",
       "     estimated_woba_using_speedangle  woba_value  woba_denom  babip_value  \\\n",
       "448                            0.864        0.90           1            1   \n",
       "449                            0.000        null        null         null   \n",
       "450                            0.000        null        null         null   \n",
       "451                            0.000        null        null         null   \n",
       "452                            0.000        null        null         null   \n",
       "\n",
       "    iso_value launch_speed_angle at_bat_number pitch_number game_date_dt  \\\n",
       "448         0                  5            57            6   2017-06-21   \n",
       "449      null               null            57            5   2017-06-21   \n",
       "450      null               null            57            4   2017-06-21   \n",
       "451      null                  4            57            3   2017-06-21   \n",
       "452      null               null            57            2   2017-06-21   \n",
       "\n",
       "    game_month  \n",
       "448          6  \n",
       "449          6  \n",
       "450          6  \n",
       "451          6  \n",
       "452          6  \n",
       "\n",
       "[5 rows x 80 columns]"
      ]
     },
     "execution_count": 40,
     "metadata": {},
     "output_type": "execute_result"
    }
   ],
   "source": [
    "scherzer.head()"
   ]
  },
  {
   "cell_type": "markdown",
   "metadata": {
    "collapsed": true
   },
   "source": [
    "## Hello Charts"
   ]
  },
  {
   "cell_type": "markdown",
   "metadata": {},
   "source": [
    "Let's try charting some of Scherzer's data. We'll use a Python charting library called Matplotlib and Seaborn, which helps those charts be a little more palatable. \n",
    "\n",
    "First, this is a funny-looking bit of code, but necessary for plots to appear inline."
   ]
  },
  {
   "cell_type": "code",
   "execution_count": 29,
   "metadata": {
    "collapsed": true
   },
   "outputs": [],
   "source": [
    "%matplotlib inline"
   ]
  },
  {
   "cell_type": "markdown",
   "metadata": {},
   "source": [
    "Then import the libraries."
   ]
  },
  {
   "cell_type": "code",
   "execution_count": 30,
   "metadata": {
    "collapsed": true
   },
   "outputs": [],
   "source": [
    "import matplotlib as mpl\n",
    "import matplotlib.pyplot as plt\n",
    "import seaborn as sns"
   ]
  },
  {
   "cell_type": "markdown",
   "metadata": {},
   "source": [
    "For fun, let's group and chart the type of pitches he throws. "
   ]
  },
  {
   "cell_type": "code",
   "execution_count": 31,
   "metadata": {
    "collapsed": true
   },
   "outputs": [],
   "source": [
    "pitch_types = scherzer.groupby(['pitch_type'])"
   ]
  },
  {
   "cell_type": "code",
   "execution_count": 32,
   "metadata": {},
   "outputs": [
    {
     "data": {
      "text/plain": [
       "pitch_type\n",
       "CH      199\n",
       "CU      137\n",
       "FF      766\n",
       "FT       42\n",
       "SL      463\n",
       "null     10\n",
       "dtype: int64"
      ]
     },
     "execution_count": 32,
     "metadata": {},
     "output_type": "execute_result"
    }
   ],
   "source": [
    "pitch_types.size()"
   ]
  },
  {
   "cell_type": "markdown",
   "metadata": {},
   "source": [
    "Since `.size()` is a series, we can use `.plot()` to quickly generate plots from the data. We use the keyword argument `kind` to specify what type of chart we want. (There are several [other options](https://pandas.pydata.org/pandas-docs/stable/visualization.html#other-plots) as well) "
   ]
  },
  {
   "cell_type": "code",
   "execution_count": 37,
   "metadata": {},
   "outputs": [
    {
     "data": {
      "text/plain": [
       "<matplotlib.axes._subplots.AxesSubplot at 0x118a34610>"
      ]
     },
     "execution_count": 37,
     "metadata": {},
     "output_type": "execute_result"
    },
    {
     "data": {
      "image/png": "[encoded data removed]",
      "text/plain": [
       "<matplotlib.figure.Figure at 0x1187a9190>"
      ]
     },
     "metadata": {},
     "output_type": "display_data"
    }
   ],
   "source": [
    "pitch_types.size().plot(kind=\"bar\", title=\"Pitches thrown by type\")"
   ]
  },
  {
   "cell_type": "markdown",
   "metadata": {},
   "source": [
    "It looks like mostly he relies on a four-seam fastball (FF) and a slider (SL), with some help from a changeup (CH) and a curveball (CU).\n",
    "\n",
    "How about a histogram of pitch speeds?"
   ]
  },
  {
   "cell_type": "code",
   "execution_count": 46,
   "metadata": {},
   "outputs": [
    {
     "data": {
      "text/plain": [
       "dtype('O')"
      ]
     },
     "execution_count": 46,
     "metadata": {},
     "output_type": "execute_result"
    }
   ],
   "source": [
    "scherzer['release_speed'].dtype\n",
    "# scherzer['release_speed'].plot(kind=\"hist\", \n",
    "#                                # Number of bins to use\n",
    "#                                bins=30, \n",
    "#                                # Title of the plot\n",
    "#                                title=\"Histogram of pitches thrown by speed\", \n",
    "#                                # Size of the plot (x, y)\n",
    "#                                figsize=(8, 5)\n",
    "#                               )\n",
    "\n",
    "# sns.despine()"
   ]
  },
  {
   "cell_type": "markdown",
   "metadata": {},
   "source": [
    "The color scheme looks good, and by using [Seaborn](https://seaborn.pydata.org/) the charts look better than plain ol' [Matplotlib](https://matplotlib.org/), but we can change the styles to make the charts look a little better. "
   ]
  },
  {
   "cell_type": "code",
   "execution_count": 44,
   "metadata": {},
   "outputs": [],
   "source": [
    "sns.set(\n",
    "    style=\"whitegrid\",\n",
    "    font=\"Franklin ITC Std\",\n",
    "    palette=\"muted\",\n",
    "    color_codes=True,\n",
    "    \n",
    "    # Extra parameters sent to matplotlib\n",
    "    rc={\n",
    "        # Uses text characters for svg, ie, not embedding or rendering type as a path \n",
    "        \"svg.fonttype\": 'none', \n",
    "        # Header font size\n",
    "        \"axes.titlesize\": 16,\n",
    "        # Axis labels font size\n",
    "        \"axes.labelsize\": 12\n",
    "    }\n",
    ")"
   ]
  },
  {
   "cell_type": "code",
   "execution_count": 45,
   "metadata": {
    "scrolled": true
   },
   "outputs": [
    {
     "ename": "TypeError",
     "evalue": "Empty 'DataFrame': no numeric data to plot",
     "output_type": "error",
     "traceback": [
      "\u001b[0;31m---------------------------------------------------------------------------\u001b[0m",
      "\u001b[0;31mTypeError\u001b[0m                                 Traceback (most recent call last)",
      "\u001b[0;32m<ipython-input-45-51dc72e8f4be>\u001b[0m in \u001b[0;36m<module>\u001b[0;34m()\u001b[0m\n\u001b[1;32m      5\u001b[0m                                \u001b[0mtitle\u001b[0m\u001b[0;34m=\u001b[0m\u001b[0;34m\"Histogram of pitches thrown by speed\"\u001b[0m\u001b[0;34m,\u001b[0m\u001b[0;34m\u001b[0m\u001b[0m\n\u001b[1;32m      6\u001b[0m                                \u001b[0;31m# Size of the plot (x, y)\u001b[0m\u001b[0;34m\u001b[0m\u001b[0;34m\u001b[0m\u001b[0m\n\u001b[0;32m----> 7\u001b[0;31m                                \u001b[0mfigsize\u001b[0m\u001b[0;34m=\u001b[0m\u001b[0;34m(\u001b[0m\u001b[0;36m8\u001b[0m\u001b[0;34m,\u001b[0m \u001b[0;36m5\u001b[0m\u001b[0;34m)\u001b[0m\u001b[0;34m\u001b[0m\u001b[0m\n\u001b[0m\u001b[1;32m      8\u001b[0m                               )\n\u001b[1;32m      9\u001b[0m \u001b[0;34m\u001b[0m\u001b[0m\n",
      "\u001b[0;32m/Users/emamdjomeha/.virtualenvs/jupyter-skillshare/lib/python2.7/site-packages/pandas/plotting/_core.pyc\u001b[0m in \u001b[0;36m__call__\u001b[0;34m(self, kind, ax, figsize, use_index, title, grid, legend, style, logx, logy, loglog, xticks, yticks, xlim, ylim, rot, fontsize, colormap, table, yerr, xerr, label, secondary_y, **kwds)\u001b[0m\n\u001b[1;32m   2441\u001b[0m                            \u001b[0mcolormap\u001b[0m\u001b[0;34m=\u001b[0m\u001b[0mcolormap\u001b[0m\u001b[0;34m,\u001b[0m \u001b[0mtable\u001b[0m\u001b[0;34m=\u001b[0m\u001b[0mtable\u001b[0m\u001b[0;34m,\u001b[0m \u001b[0myerr\u001b[0m\u001b[0;34m=\u001b[0m\u001b[0myerr\u001b[0m\u001b[0;34m,\u001b[0m\u001b[0;34m\u001b[0m\u001b[0m\n\u001b[1;32m   2442\u001b[0m                            \u001b[0mxerr\u001b[0m\u001b[0;34m=\u001b[0m\u001b[0mxerr\u001b[0m\u001b[0;34m,\u001b[0m \u001b[0mlabel\u001b[0m\u001b[0;34m=\u001b[0m\u001b[0mlabel\u001b[0m\u001b[0;34m,\u001b[0m \u001b[0msecondary_y\u001b[0m\u001b[0;34m=\u001b[0m\u001b[0msecondary_y\u001b[0m\u001b[0;34m,\u001b[0m\u001b[0;34m\u001b[0m\u001b[0m\n\u001b[0;32m-> 2443\u001b[0;31m                            **kwds)\n\u001b[0m\u001b[1;32m   2444\u001b[0m     \u001b[0m__call__\u001b[0m\u001b[0;34m.\u001b[0m\u001b[0m__doc__\u001b[0m \u001b[0;34m=\u001b[0m \u001b[0mplot_series\u001b[0m\u001b[0;34m.\u001b[0m\u001b[0m__doc__\u001b[0m\u001b[0;34m\u001b[0m\u001b[0m\n\u001b[1;32m   2445\u001b[0m \u001b[0;34m\u001b[0m\u001b[0m\n",
      "\u001b[0;32m/Users/emamdjomeha/.virtualenvs/jupyter-skillshare/lib/python2.7/site-packages/pandas/plotting/_core.pyc\u001b[0m in \u001b[0;36mplot_series\u001b[0;34m(data, kind, ax, figsize, use_index, title, grid, legend, style, logx, logy, loglog, xticks, yticks, xlim, ylim, rot, fontsize, colormap, table, yerr, xerr, label, secondary_y, **kwds)\u001b[0m\n\u001b[1;32m   1882\u001b[0m                  \u001b[0myerr\u001b[0m\u001b[0;34m=\u001b[0m\u001b[0myerr\u001b[0m\u001b[0;34m,\u001b[0m \u001b[0mxerr\u001b[0m\u001b[0;34m=\u001b[0m\u001b[0mxerr\u001b[0m\u001b[0;34m,\u001b[0m\u001b[0;34m\u001b[0m\u001b[0m\n\u001b[1;32m   1883\u001b[0m                  \u001b[0mlabel\u001b[0m\u001b[0;34m=\u001b[0m\u001b[0mlabel\u001b[0m\u001b[0;34m,\u001b[0m \u001b[0msecondary_y\u001b[0m\u001b[0;34m=\u001b[0m\u001b[0msecondary_y\u001b[0m\u001b[0;34m,\u001b[0m\u001b[0;34m\u001b[0m\u001b[0m\n\u001b[0;32m-> 1884\u001b[0;31m                  **kwds)\n\u001b[0m\u001b[1;32m   1885\u001b[0m \u001b[0;34m\u001b[0m\u001b[0m\n\u001b[1;32m   1886\u001b[0m \u001b[0;34m\u001b[0m\u001b[0m\n",
      "\u001b[0;32m/Users/emamdjomeha/.virtualenvs/jupyter-skillshare/lib/python2.7/site-packages/pandas/plotting/_core.pyc\u001b[0m in \u001b[0;36m_plot\u001b[0;34m(data, x, y, subplots, ax, kind, **kwds)\u001b[0m\n\u001b[1;32m   1682\u001b[0m         \u001b[0mplot_obj\u001b[0m \u001b[0;34m=\u001b[0m \u001b[0mklass\u001b[0m\u001b[0;34m(\u001b[0m\u001b[0mdata\u001b[0m\u001b[0;34m,\u001b[0m \u001b[0msubplots\u001b[0m\u001b[0;34m=\u001b[0m\u001b[0msubplots\u001b[0m\u001b[0;34m,\u001b[0m \u001b[0max\u001b[0m\u001b[0;34m=\u001b[0m\u001b[0max\u001b[0m\u001b[0;34m,\u001b[0m \u001b[0mkind\u001b[0m\u001b[0;34m=\u001b[0m\u001b[0mkind\u001b[0m\u001b[0;34m,\u001b[0m \u001b[0;34m**\u001b[0m\u001b[0mkwds\u001b[0m\u001b[0;34m)\u001b[0m\u001b[0;34m\u001b[0m\u001b[0m\n\u001b[1;32m   1683\u001b[0m \u001b[0;34m\u001b[0m\u001b[0m\n\u001b[0;32m-> 1684\u001b[0;31m     \u001b[0mplot_obj\u001b[0m\u001b[0;34m.\u001b[0m\u001b[0mgenerate\u001b[0m\u001b[0;34m(\u001b[0m\u001b[0;34m)\u001b[0m\u001b[0;34m\u001b[0m\u001b[0m\n\u001b[0m\u001b[1;32m   1685\u001b[0m     \u001b[0mplot_obj\u001b[0m\u001b[0;34m.\u001b[0m\u001b[0mdraw\u001b[0m\u001b[0;34m(\u001b[0m\u001b[0;34m)\u001b[0m\u001b[0;34m\u001b[0m\u001b[0m\n\u001b[1;32m   1686\u001b[0m     \u001b[0;32mreturn\u001b[0m \u001b[0mplot_obj\u001b[0m\u001b[0;34m.\u001b[0m\u001b[0mresult\u001b[0m\u001b[0;34m\u001b[0m\u001b[0m\n",
      "\u001b[0;32m/Users/emamdjomeha/.virtualenvs/jupyter-skillshare/lib/python2.7/site-packages/pandas/plotting/_core.pyc\u001b[0m in \u001b[0;36mgenerate\u001b[0;34m(self)\u001b[0m\n\u001b[1;32m    236\u001b[0m     \u001b[0;32mdef\u001b[0m \u001b[0mgenerate\u001b[0m\u001b[0;34m(\u001b[0m\u001b[0mself\u001b[0m\u001b[0;34m)\u001b[0m\u001b[0;34m:\u001b[0m\u001b[0;34m\u001b[0m\u001b[0m\n\u001b[1;32m    237\u001b[0m         \u001b[0mself\u001b[0m\u001b[0;34m.\u001b[0m\u001b[0m_args_adjust\u001b[0m\u001b[0;34m(\u001b[0m\u001b[0;34m)\u001b[0m\u001b[0;34m\u001b[0m\u001b[0m\n\u001b[0;32m--> 238\u001b[0;31m         \u001b[0mself\u001b[0m\u001b[0;34m.\u001b[0m\u001b[0m_compute_plot_data\u001b[0m\u001b[0;34m(\u001b[0m\u001b[0;34m)\u001b[0m\u001b[0;34m\u001b[0m\u001b[0m\n\u001b[0m\u001b[1;32m    239\u001b[0m         \u001b[0mself\u001b[0m\u001b[0;34m.\u001b[0m\u001b[0m_setup_subplots\u001b[0m\u001b[0;34m(\u001b[0m\u001b[0;34m)\u001b[0m\u001b[0;34m\u001b[0m\u001b[0m\n\u001b[1;32m    240\u001b[0m         \u001b[0mself\u001b[0m\u001b[0;34m.\u001b[0m\u001b[0m_make_plot\u001b[0m\u001b[0;34m(\u001b[0m\u001b[0;34m)\u001b[0m\u001b[0;34m\u001b[0m\u001b[0m\n",
      "\u001b[0;32m/Users/emamdjomeha/.virtualenvs/jupyter-skillshare/lib/python2.7/site-packages/pandas/plotting/_core.pyc\u001b[0m in \u001b[0;36m_compute_plot_data\u001b[0;34m(self)\u001b[0m\n\u001b[1;32m    345\u001b[0m         \u001b[0;32mif\u001b[0m \u001b[0mis_empty\u001b[0m\u001b[0;34m:\u001b[0m\u001b[0;34m\u001b[0m\u001b[0m\n\u001b[1;32m    346\u001b[0m             raise TypeError('Empty {0!r}: no numeric data to '\n\u001b[0;32m--> 347\u001b[0;31m                             'plot'.format(numeric_data.__class__.__name__))\n\u001b[0m\u001b[1;32m    348\u001b[0m \u001b[0;34m\u001b[0m\u001b[0m\n\u001b[1;32m    349\u001b[0m         \u001b[0mself\u001b[0m\u001b[0;34m.\u001b[0m\u001b[0mdata\u001b[0m \u001b[0;34m=\u001b[0m \u001b[0mnumeric_data\u001b[0m\u001b[0;34m\u001b[0m\u001b[0m\n",
      "\u001b[0;31mTypeError\u001b[0m: Empty 'DataFrame': no numeric data to plot"
     ]
    }
   ],
   "source": [
    "scherzer['release_speed'].plot(kind=\"hist\", \n",
    "                               # Number of bins to use\n",
    "                               bins=30, \n",
    "                               # Title of the plot\n",
    "                               title=\"Histogram of pitches thrown by speed\", \n",
    "                               # Size of the plot (x, y)\n",
    "                               figsize=(8, 5)\n",
    "                              )\n",
    "\n",
    "# We can call sns.despine() to remove the border\n",
    "sns.despine()"
   ]
  },
  {
   "cell_type": "markdown",
   "metadata": {},
   "source": [
    "This is still kind of a boring chart though. What if we could histogram by speed and type of pitch? \n",
    "\n",
    "We can use the \"by\" argument for that, and get small multiples. "
   ]
  },
  {
   "cell_type": "code",
   "execution_count": null,
   "metadata": {},
   "outputs": [],
   "source": [
    "scherzer.hist('release_speed', by='pitch_type', bins=20, figsize=(12, 14))"
   ]
  },
  {
   "cell_type": "markdown",
   "metadata": {},
   "source": [
    "This isn't great for comparison though, the axes are inconsistent! \n",
    "\n",
    "Instead of using the built-in pandas charting methods, let's use Seaborn's `FacetGrid` method, which is good for small multiples. Personally, I find Seaborn a bit easier to work with than the built-in Matplotlib functions."
   ]
  },
  {
   "cell_type": "code",
   "execution_count": null,
   "metadata": {},
   "outputs": [],
   "source": [
    "# We don't *need* to assign to g here, but it makes working with it easier. \n",
    "g = sns.FacetGrid(scherzer, col=\"pitch_type\", col_wrap=3)\n",
    "g = g.map(plt.hist, 'release_speed')"
   ]
  },
  {
   "cell_type": "markdown",
   "metadata": {},
   "source": [
    "## Exporting your data"
   ]
  },
  {
   "cell_type": "markdown",
   "metadata": {},
   "source": [
    "### Exporting as a CSV\n",
    "\n",
    "Exporting as a CSV is easy. Just call `to_csv()` on any data frame."
   ]
  },
  {
   "cell_type": "code",
   "execution_count": null,
   "metadata": {
    "collapsed": true
   },
   "outputs": [],
   "source": [
    "scherzer.to_csv('data/scherzer.csv')"
   ]
  },
  {
   "cell_type": "markdown",
   "metadata": {},
   "source": [
    "### Exporting a chart\n",
    "\n",
    "Exporting charts is also easy! But requires a bit of config if you want an SVG. "
   ]
  },
  {
   "cell_type": "code",
   "execution_count": null,
   "metadata": {
    "collapsed": true
   },
   "outputs": [],
   "source": [
    "%config InlineBackend.figure_format = 'svg'"
   ]
  },
  {
   "cell_type": "code",
   "execution_count": null,
   "metadata": {
    "scrolled": true
   },
   "outputs": [],
   "source": [
    "# plot a histogram by speed\n",
    "scherzer['release_speed'].plot(kind=\"hist\", bins=30, title=\"Histogram of pitches thrown by speed\")\n",
    "\n",
    "# Save to SVG\n",
    "plt.savefig('svg/scherzer_histogram.svg')"
   ]
  },
  {
   "cell_type": "markdown",
   "metadata": {
    "collapsed": true
   },
   "source": [
    "## Hello maps!\n",
    "\n",
    "Saved for another skillshare!"
   ]
  },
  {
   "cell_type": "markdown",
   "metadata": {},
   "source": [
    "## Useful links\n",
    "\n",
    "- [California crop production wages analysis](https://github.com/datadesk/california-crop-production-wages-analysis) good example of how to integrate notebooks into the reporting and analysis process. \n",
    "- [Sample notebooks from Microsoft Azure](https://notebooks.azure.com/) includes overviews of using Python, R, etc.\n",
    "- [28 Jupyter Notebook tips, tricks and shortcuts](https://www.dataquest.io/blog/jupyter-notebook-tips-tricks-shortcuts/) \n",
    "- [10 Python notebook tutorials for data science and machine learning](http://www.kdnuggets.com/2016/04/top-10-ipython-nb-tutorials.html)\n",
    "- [More keyboard shortcuts](https://gist.github.com/kidpixo/f4318f8c8143adee5b40) "
   ]
  }
 ],
 "metadata": {
  "kernelspec": {
   "display_name": "Python 2",
   "language": "python",
   "name": "python2"
  },
  "language_info": {
   "codemirror_mode": {
    "name": "ipython",
    "version": 2
   },
   "file_extension": ".py",
   "mimetype": "text/x-python",
   "name": "python",
   "nbconvert_exporter": "python",
   "pygments_lexer": "ipython2",
   "version": "2.7.13"
  }
 },
 "nbformat": 4,
 "nbformat_minor": 2
}
