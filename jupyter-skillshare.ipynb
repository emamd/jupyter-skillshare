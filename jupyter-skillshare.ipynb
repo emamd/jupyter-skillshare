{
 "cells": [
  {
   "cell_type": "markdown",
   "metadata": {},
   "source": [
    "# Using Python and Jupyter to analyze data\n",
    "\n",
    "This repo should teach you to use Jupyter notebooks as a analysis and visualization framework. \n",
    "\n",
    "## Contents\n",
    "\n",
    "- [Getting Started](#Getting-started)\n",
    "- [Hello Python](#Hello-Python)\n",
    "- [Hello Jupyter](#Hello-Jupyter)\n",
    "- [Hello Data](#Hello-Data)\n",
    "- [Hello Charts](#Hello-Charts)\n",
    "- [Hello Maps!](#Hello-maps!)\n",
    "- [Useful Links](#Useful-links)\n"
   ]
  },
  {
   "cell_type": "markdown",
   "metadata": {},
   "source": [
    "## Getting started\n",
    "\n",
    "There are a number of ways to [install Jupyter](http://jupyter.readthedocs.io/en/latest/install.html), the most recommended being by using [Anaconda](https://www.continuum.io/downloads). I've never used Anaconda and find it easier to install with [Pip](https://pypi.python.org/pypi/pip) (A package manager for Python, think Python's `npm`,) preferably in a virtual environment. I like to use [Virtualenvwrapper](https://virtualenvwrapper.readthedocs.io/en/latest/).\n"
   ]
  },
  {
   "cell_type": "markdown",
   "metadata": {},
   "source": [
    "```bash\n",
    "$ mkvirtualenv jupyter-skillshare\n",
    "(jupyter-skillshare) $\n",
    "```"
   ]
  },
  {
   "cell_type": "markdown",
   "metadata": {},
   "source": [
    "The parentheses indicate that you're inside your virtualenv. If you need to exit the environment, you can type `deactivate`. To re-enter the virtual environment, type `workon jupyter-skillshare` (or whatever the name of your environment.)\n"
   ]
  },
  {
   "cell_type": "markdown",
   "metadata": {},
   "source": [
    "When you have your virtual env ready, clone the repo:"
   ]
  },
  {
   "cell_type": "markdown",
   "metadata": {},
   "source": [
    "```bash\n",
    "(jupyter-skillshare) $ git clone git@github.com:emamd/jupyter-skillshare.git jupyter-skillshare\n",
    "```"
   ]
  },
  {
   "cell_type": "markdown",
   "metadata": {},
   "source": [
    "Then use pip to install the requirements listed in requirements.txt (this may take a while)"
   ]
  },
  {
   "cell_type": "markdown",
   "metadata": {},
   "source": [
    "```bash\n",
    "(jupyter-skillshare) $ pip install -r requirements.txt\n",
    "```"
   ]
  },
  {
   "cell_type": "markdown",
   "metadata": {},
   "source": [
    "To boot up a notebook, type `jupyter notebook`"
   ]
  },
  {
   "cell_type": "markdown",
   "metadata": {},
   "source": [
    "```bash\n",
    "(jupyter-skillshare) $ jupyter notebook\n",
    "```"
   ]
  },
  {
   "cell_type": "markdown",
   "metadata": {},
   "source": [
    "Previously, this would've automatically opened up a browser window, but looks like there's a bug with the latest version of OSX. Open your notebook by going to [localhost:8888](http://localhost:8888)"
   ]
  },
  {
   "cell_type": "markdown",
   "metadata": {},
   "source": [
    "## Or, a quicker method\n",
    "\n",
    "[Ben Welsh](https://github.com/palewire) has a notebook server set up for his [\"First Python Notebook\"](http://www.firstpythonnotebook.org/) MOOC through the California Civic Data Coalition, and has kindly offered it for this skillshare. If you don't feel like going through the setup/install process, you can start up a server at http://notebooks.californiacivicdata.org/ (you'll need to sign in and authorize GitHub to use the server.) \n",
    "\n",
    "If you're interested in Python/Jupyter, you should take a look at that course. It's much more in-depth and gives you a much better idea of what's possible with Jupyter notebooks. "
   ]
  },
  {
   "cell_type": "markdown",
   "metadata": {},
   "source": [
    "After running `jupyter notebook` and going to localhost:8888 you should see a page that looks similar to this. \n",
    "\n",
    "![Jupyter notebook homepage](img/jupyter_homepage.png)\n",
    "\n",
    "\n",
    "Click the `New` button to create a new Python notebook. \n",
    "\n",
    "![Jupyter notebook homepage](img/new_notebook.gif)"
   ]
  },
  {
   "cell_type": "markdown",
   "metadata": {},
   "source": [
    "You should see something like this, a mostly empty screen with one cell for text:\n",
    "\n",
    "![Empty notebook](img/empty_notebook.png)"
   ]
  },
  {
   "cell_type": "markdown",
   "metadata": {},
   "source": [
    "## Hello Python"
   ]
  },
  {
   "cell_type": "markdown",
   "metadata": {},
   "source": [
    "You can execute any python code in notebooks. The rendered output will appear below your current cell. If you need a starter on Python, [there's a notebook for that](https://notebooks.azure.com/Microsoft/libraries/samples/html/Introduction%20to%20Python.ipynb). "
   ]
  },
  {
   "cell_type": "code",
   "execution_count": null,
   "metadata": {},
   "outputs": [],
   "source": [
    "print(\"hello\" + \" world!\")"
   ]
  },
  {
   "cell_type": "code",
   "execution_count": null,
   "metadata": {},
   "outputs": [],
   "source": [
    "2 + 2"
   ]
  },
  {
   "cell_type": "code",
   "execution_count": null,
   "metadata": {},
   "outputs": [],
   "source": [
    "for i in range(0, 5):\n",
    "    print i "
   ]
  },
  {
   "cell_type": "markdown",
   "metadata": {},
   "source": [
    "Like Python in the interpreter or a script, undefined variables and syntax errors will throw errors. "
   ]
  },
  {
   "cell_type": "code",
   "execution_count": null,
   "metadata": {},
   "outputs": [],
   "source": [
    "2 + undefined_variable"
   ]
  },
  {
   "cell_type": "code",
   "execution_count": null,
   "metadata": {},
   "outputs": [],
   "source": [
    "for i in range(0,10)\n",
    "    print i"
   ]
  },
  {
   "cell_type": "markdown",
   "metadata": {},
   "source": [
    "## Hello Jupyter"
   ]
  },
  {
   "cell_type": "markdown",
   "metadata": {},
   "source": [
    "You may notice that our code is broken up into little snippets, or \"cells.\" Think of each cell as being broken up into a statement. And because they're reorganizeable (you can cut, paste, and shift cells up and down,) it's good for legibility and your sanity to keep statements short. "
   ]
  },
  {
   "cell_type": "markdown",
   "metadata": {},
   "source": [
    "You might also notice that we're mixing \"code\" cells with Markdown cells. This lets you keep detailed notes and documentation on your work as you go - more detailed than regular inline comments you might use in your code."
   ]
  },
  {
   "cell_type": "markdown",
   "metadata": {},
   "source": [
    "Python not your thing? You can install other language kernels to use with the notebook app, including [IRKernel](https://irkernel.github.io/) for R, or [IJavaScript](https://github.com/n-riesco/ijavascript) for JavaScript. You can see the [full list of kernels](https://github.com/jupyter/jupyter/wiki/Jupyter-kernels) available. \n",
    "\n",
    "And here are some instructions for [installing and running](https://www.datacamp.com/community/blog/jupyter-notebook-r#gs.6ggEhYw) an R kernel. "
   ]
  },
  {
   "cell_type": "markdown",
   "metadata": {},
   "source": [
    "### Some handy shortcuts\n",
    "\n",
    "`enter` - Enter cell edit mode\n",
    "\n",
    "`escape` - Enter command mode\n",
    "\n",
    "`shift-enter` - Run the cell\n",
    "\n",
    "`a` - Create cell above\n",
    "\n",
    "`b` - Create cell below\n",
    "\n",
    "`j` - Move to cell below\n",
    "\n",
    "`k` - Move to cell above\n",
    "\n",
    "`m` - Convert cell to Markdown\n",
    "\n",
    "`y` - Convert cell to code \n",
    "\n",
    "`s` - Save notebook"
   ]
  },
  {
   "cell_type": "markdown",
   "metadata": {},
   "source": [
    "## Hello Data "
   ]
  },
  {
   "cell_type": "markdown",
   "metadata": {},
   "source": [
    "Let's read in some data. We'll use data from MLB's [Statcast](https://baseballsavant.mlb.com/statcast_search). `data/nationals_pitch_data.csv` contains every pitch thrown by Washington Nationals pitchers this season. \n",
    "\n",
    "We'll read in the CSV as a [Pandas](http://pandas.pydata.org/pandas-docs/stable/) data frame. If you're familiar with data frames in R, you'll find that these work very simliarly. "
   ]
  },
  {
   "cell_type": "markdown",
   "metadata": {},
   "source": [
    "First, we need to import Pandas. We'll use a common alias so it's not so clunky to type. Usually this would happen at the top of a notebook but doing it here to illustrate the process."
   ]
  },
  {
   "cell_type": "code",
   "execution_count": null,
   "metadata": {
    "collapsed": true
   },
   "outputs": [],
   "source": [
    "import pandas as pd"
   ]
  },
  {
   "cell_type": "markdown",
   "metadata": {},
   "source": [
    "Note that a little asterisk briefly appears in the brackets next to the cell, and then (hopefully) is replaced by a number. This means the code in the cell is running. "
   ]
  },
  {
   "cell_type": "markdown",
   "metadata": {},
   "source": [
    "We can read in the module using `read_csv`. Note that we add `na_values=\"null\"` because that is how NA values are included in the CSV. Otherwise, the cell values would be the string \"null\". "
   ]
  },
  {
   "cell_type": "code",
   "execution_count": null,
   "metadata": {
    "collapsed": true
   },
   "outputs": [],
   "source": [
    "df = pd.read_csv('data/nationals_pitch_data.csv', na_values=\"null\")"
   ]
  },
  {
   "cell_type": "markdown",
   "metadata": {},
   "source": [
    "### If you're using the server setup, and not the repo\n",
    "\n",
    "If you're not running this notebook locally, you'll have to download the data from the repo on GitHub. Here's how you do that. "
   ]
  },
  {
   "cell_type": "code",
   "execution_count": null,
   "metadata": {},
   "outputs": [],
   "source": [
    "import io\n",
    "import requests\n",
    "\n",
    "# URL to request\n",
    "url = \"https://raw.githubusercontent.com/emamd/jupyter-skillshare/master/data/nationals_pitch_data.csv\"\n",
    "\n",
    "# Requests fetches the URL and returns the content\n",
    "csv_content = requests.get(url).content\n",
    "\n",
    "# Use io.StringIO to create a file-like object that can be used with read_csv()\n",
    "df = pd.read_csv(io.StringIO(csv_content.decode('utf-8')))"
   ]
  },
  {
   "cell_type": "markdown",
   "metadata": {},
   "source": [
    "### Summarizing data\n",
    "There are a number of data summary functions we can use. First, take a quick look at the data using `head`."
   ]
  },
  {
   "cell_type": "code",
   "execution_count": null,
   "metadata": {
    "scrolled": true
   },
   "outputs": [],
   "source": [
    "df.head()"
   ]
  },
  {
   "cell_type": "markdown",
   "metadata": {},
   "source": [
    "You can also see how many rows and columns are in the data with `.shape`. We have data on more than 11,000 pitches, and 78 columns.  "
   ]
  },
  {
   "cell_type": "code",
   "execution_count": null,
   "metadata": {
    "scrolled": true
   },
   "outputs": [],
   "source": [
    "df.shape"
   ]
  },
  {
   "cell_type": "markdown",
   "metadata": {},
   "source": [
    "Another important command is `dtypes`, which provides the type of value in a column. \"Object\" is basically a string. "
   ]
  },
  {
   "cell_type": "code",
   "execution_count": null,
   "metadata": {
    "scrolled": true
   },
   "outputs": [],
   "source": [
    "df.dtypes"
   ]
  },
  {
   "cell_type": "markdown",
   "metadata": {},
   "source": [
    "You can also do this for an individual column. If you look, the `release_speed` column is listed as an object (a string in Pandas). "
   ]
  },
  {
   "cell_type": "code",
   "execution_count": null,
   "metadata": {},
   "outputs": [],
   "source": [
    "df[\"release_speed\"].dtype"
   ]
  },
  {
   "cell_type": "markdown",
   "metadata": {},
   "source": [
    "This should be a numeric value instead of a float so let's convert it - you'll find we do that a lot.  We'll use the `assign` function to do that. \n",
    "\n",
    "Since this returns the dataframe, remember to reassign it to the `df` variable. "
   ]
  },
  {
   "cell_type": "code",
   "execution_count": null,
   "metadata": {},
   "outputs": [],
   "source": [
    "# Convert release speed to a numeric value, coerce all errors into NaN\n",
    "df = df.assign(release_speed = lambda x: pd.to_numeric(x[\"release_speed\"], errors='coerce'))"
   ]
  },
  {
   "cell_type": "markdown",
   "metadata": {},
   "source": [
    "You can also use `describe` to get an overview of data in a column. I find this easiest to read when summarising one or two columns at a time. This provides summary info like min/max, mean, count, standard deviation and percentile break points."
   ]
  },
  {
   "cell_type": "code",
   "execution_count": null,
   "metadata": {},
   "outputs": [],
   "source": [
    "df['release_speed'].describe()"
   ]
  },
  {
   "cell_type": "markdown",
   "metadata": {},
   "source": [
    "For a column with string values, this will give the number of unique values, as well as the most frequent value in the list. It looks like Tanner Roark has thrown the most pitches this season. "
   ]
  },
  {
   "cell_type": "code",
   "execution_count": null,
   "metadata": {
    "scrolled": true
   },
   "outputs": [],
   "source": [
    "df['player_name'].describe()"
   ]
  },
  {
   "cell_type": "markdown",
   "metadata": {},
   "source": [
    "### Grouping and filtering"
   ]
  },
  {
   "cell_type": "markdown",
   "metadata": {},
   "source": [
    "Let's group these by pitcher. We can group using one or more columns, or a function, but in this case let's just use the \"player_name\" column."
   ]
  },
  {
   "cell_type": "code",
   "execution_count": null,
   "metadata": {
    "collapsed": true
   },
   "outputs": [],
   "source": [
    "by_pitcher = df.groupby(['player_name'])"
   ]
  },
  {
   "cell_type": "markdown",
   "metadata": {},
   "source": [
    "Now you can see how many items are in each column, kind of like a pivot table. It's important though to remember that each of these contain a reference to that subset of the table. `.size()` gives us a \"series\" (basically a list of values) with counts of how many times the the pitchers appear in the table. "
   ]
  },
  {
   "cell_type": "code",
   "execution_count": null,
   "metadata": {
    "scrolled": true
   },
   "outputs": [],
   "source": [
    "by_pitcher.size()"
   ]
  },
  {
   "cell_type": "markdown",
   "metadata": {},
   "source": [
    "It's easier to read if we sort it. "
   ]
  },
  {
   "cell_type": "code",
   "execution_count": null,
   "metadata": {},
   "outputs": [],
   "source": [
    "by_pitcher.size().sort_values(ascending=False)"
   ]
  },
  {
   "cell_type": "markdown",
   "metadata": {},
   "source": [
    "Let's make this a little more complex - who's thrown the most strikeouts? First let's use `unique` to see all the different type of \"events\" there are. "
   ]
  },
  {
   "cell_type": "code",
   "execution_count": null,
   "metadata": {
    "scrolled": true
   },
   "outputs": [],
   "source": [
    "df['events'].unique()"
   ]
  },
  {
   "cell_type": "markdown",
   "metadata": {},
   "source": [
    "We can then filter for just strikeouts and do the same groupby query. "
   ]
  },
  {
   "cell_type": "code",
   "execution_count": null,
   "metadata": {
    "collapsed": true
   },
   "outputs": [],
   "source": [
    "by_strikeouts = df[df['events'] == 'strikeout'].groupby('player_name')"
   ]
  },
  {
   "cell_type": "markdown",
   "metadata": {},
   "source": [
    "Looks like Max Scherzer has the most strikeouts, with 144 - not surprising!"
   ]
  },
  {
   "cell_type": "code",
   "execution_count": null,
   "metadata": {
    "scrolled": false
   },
   "outputs": [],
   "source": [
    "by_strikeouts.size().sort_values(ascending=False)"
   ]
  },
  {
   "cell_type": "markdown",
   "metadata": {},
   "source": [
    "Let's filter down to just Max Scherzer's pitch data. First, let's subset it from the main dataset. We can do this one of two ways. "
   ]
  },
  {
   "cell_type": "markdown",
   "metadata": {},
   "source": [
    "The first, by grabbing from the pitcher grouping:"
   ]
  },
  {
   "cell_type": "code",
   "execution_count": null,
   "metadata": {
    "collapsed": true
   },
   "outputs": [],
   "source": [
    "scherzer = by_pitcher.get_group('Max Scherzer')"
   ]
  },
  {
   "cell_type": "markdown",
   "metadata": {},
   "source": [
    "Or we could filter from the main data frame using `.query()`:"
   ]
  },
  {
   "cell_type": "code",
   "execution_count": null,
   "metadata": {
    "collapsed": true
   },
   "outputs": [],
   "source": [
    "scherzer = df.query('player_name == \"Max Scherzer\"')"
   ]
  },
  {
   "cell_type": "markdown",
   "metadata": {},
   "source": [
    "Or you could use a boolean filter like this:"
   ]
  },
  {
   "cell_type": "code",
   "execution_count": null,
   "metadata": {
    "collapsed": true
   },
   "outputs": [],
   "source": [
    "scherzer = df[df['player_name'] == 'Max Scherzer']"
   ]
  },
  {
   "cell_type": "code",
   "execution_count": null,
   "metadata": {},
   "outputs": [],
   "source": [
    "scherzer.head()"
   ]
  },
  {
   "cell_type": "markdown",
   "metadata": {},
   "source": [
    "There's more than one way to do it! "
   ]
  },
  {
   "cell_type": "markdown",
   "metadata": {},
   "source": [
    "### Working with dates"
   ]
  },
  {
   "cell_type": "markdown",
   "metadata": {},
   "source": [
    "If you look, our `game_date` column is objects (strings). We can use .to_datetime() to convert this to a datetime object. We'll use `.assign()` to create the new `game_date_dt` column. "
   ]
  },
  {
   "cell_type": "code",
   "execution_count": null,
   "metadata": {
    "scrolled": true
   },
   "outputs": [],
   "source": [
    "scherzer = scherzer.assign(game_date_dt = pd.to_datetime(scherzer['game_date']))"
   ]
  },
  {
   "cell_type": "markdown",
   "metadata": {},
   "source": [
    "Like python datetime objects, you can extract different values from the date. Let's pull out the month each game was played. "
   ]
  },
  {
   "cell_type": "code",
   "execution_count": null,
   "metadata": {
    "scrolled": true
   },
   "outputs": [],
   "source": [
    "scherzer = scherzer.assign(game_month = scherzer['game_date_dt'].dt.month)"
   ]
  },
  {
   "cell_type": "code",
   "execution_count": null,
   "metadata": {},
   "outputs": [],
   "source": [
    "scherzer.head()"
   ]
  },
  {
   "cell_type": "markdown",
   "metadata": {
    "collapsed": true
   },
   "source": [
    "## Hello Charts"
   ]
  },
  {
   "cell_type": "markdown",
   "metadata": {},
   "source": [
    "Let's try charting some of Scherzer's data. We'll use a Python charting library called Matplotlib and Seaborn, which helps those charts be a little more palatable. \n",
    "\n",
    "First, this is a funny-looking bit of code, but necessary for plots to appear inline."
   ]
  },
  {
   "cell_type": "code",
   "execution_count": null,
   "metadata": {
    "collapsed": true
   },
   "outputs": [],
   "source": [
    "%matplotlib inline"
   ]
  },
  {
   "cell_type": "markdown",
   "metadata": {},
   "source": [
    "Then import the libraries."
   ]
  },
  {
   "cell_type": "code",
   "execution_count": null,
   "metadata": {
    "collapsed": true
   },
   "outputs": [],
   "source": [
    "import matplotlib as mpl\n",
    "import matplotlib.pyplot as plt\n",
    "import seaborn as sns"
   ]
  },
  {
   "cell_type": "markdown",
   "metadata": {},
   "source": [
    "For fun, let's group and chart the type of pitches he throws. "
   ]
  },
  {
   "cell_type": "code",
   "execution_count": null,
   "metadata": {
    "collapsed": true
   },
   "outputs": [],
   "source": [
    "pitch_types = scherzer.groupby(['pitch_type'])"
   ]
  },
  {
   "cell_type": "code",
   "execution_count": null,
   "metadata": {},
   "outputs": [],
   "source": [
    "pitch_types.size()"
   ]
  },
  {
   "cell_type": "markdown",
   "metadata": {},
   "source": [
    "Since `.size()` is a series, we can use `.plot()` to quickly generate plots from the data. We use the keyword argument `kind` to specify what type of chart we want. (There are several [other options](https://pandas.pydata.org/pandas-docs/stable/visualization.html#other-plots) as well) "
   ]
  },
  {
   "cell_type": "code",
   "execution_count": null,
   "metadata": {},
   "outputs": [],
   "source": [
    "pitch_types.size().plot(kind=\"bar\", title=\"Pitches thrown by type\")"
   ]
  },
  {
   "cell_type": "markdown",
   "metadata": {},
   "source": [
    "It looks like mostly he relies on a four-seam fastball (FF) and a slider (SL), with some help from a changeup (CH) and a curveball (CU).\n",
    "\n",
    "How about a histogram of pitch speeds?"
   ]
  },
  {
   "cell_type": "code",
   "execution_count": null,
   "metadata": {},
   "outputs": [],
   "source": [
    "scherzer['release_speed'].dtype\n",
    "scherzer['release_speed'].plot(kind=\"hist\", \n",
    "                               # Number of bins to use\n",
    "                               bins=30, \n",
    "                               # Title of the plot\n",
    "                               title=\"Histogram of pitches thrown by speed\", \n",
    "                               # Size of the plot (x, y)\n",
    "                               figsize=(8, 5)\n",
    "                              )"
   ]
  },
  {
   "cell_type": "markdown",
   "metadata": {},
   "source": [
    "The color scheme looks good, and by using [Seaborn](https://seaborn.pydata.org/) the charts look better than plain ol' [Matplotlib](https://matplotlib.org/), but we can change the styles to make the charts look a little better. "
   ]
  },
  {
   "cell_type": "code",
   "execution_count": null,
   "metadata": {},
   "outputs": [],
   "source": [
    "sns.set(\n",
    "    style=\"whitegrid\",\n",
    "    font=\"Franklin ITC Std\",\n",
    "    palette=\"muted\",\n",
    "    color_codes=True,\n",
    "    \n",
    "    # Extra parameters sent to matplotlib\n",
    "    rc={\n",
    "        # Uses text characters for svg, ie, not embedding or rendering type as a path \n",
    "        \"svg.fonttype\": 'none', \n",
    "        # Header font size\n",
    "        \"axes.titlesize\": 16,\n",
    "        # Axis labels font size\n",
    "        \"axes.labelsize\": 12\n",
    "    }\n",
    ")"
   ]
  },
  {
   "cell_type": "code",
   "execution_count": null,
   "metadata": {
    "scrolled": true
   },
   "outputs": [],
   "source": [
    "scherzer['release_speed'].plot(kind=\"hist\", \n",
    "                               # Number of bins to use\n",
    "                               bins=30, \n",
    "                               # Title of the plot\n",
    "                               title=\"Histogram of pitches thrown by speed\", \n",
    "                               # Size of the plot (x, y)\n",
    "                               figsize=(8, 5)\n",
    "                              )\n",
    "\n",
    "# We can call sns.despine() to remove the border\n",
    "sns.despine()"
   ]
  },
  {
   "cell_type": "markdown",
   "metadata": {},
   "source": [
    "This is still kind of a boring chart though. What if we could histogram by speed and type of pitch? \n",
    "\n",
    "We can use the \"by\" argument for that, and get small multiples. "
   ]
  },
  {
   "cell_type": "code",
   "execution_count": null,
   "metadata": {},
   "outputs": [],
   "source": [
    "scherzer.hist('release_speed', by='pitch_type', bins=20, figsize=(12, 14))"
   ]
  },
  {
   "cell_type": "markdown",
   "metadata": {},
   "source": [
    "This isn't great for comparison though, the axes are inconsistent! \n",
    "\n",
    "Instead of using the built-in pandas charting methods, let's use Seaborn's `FacetGrid` method, which is good for small multiples. Personally, I find Seaborn a bit easier to work with than the built-in Matplotlib functions."
   ]
  },
  {
   "cell_type": "code",
   "execution_count": null,
   "metadata": {},
   "outputs": [],
   "source": [
    "# We don't *need* to assign to g here, but it makes working with it easier. \n",
    "g = sns.FacetGrid(scherzer, col=\"pitch_type\", col_wrap=3)\n",
    "g = g.map(plt.hist, 'release_speed')"
   ]
  },
  {
   "cell_type": "markdown",
   "metadata": {},
   "source": [
    "## Exporting your data"
   ]
  },
  {
   "cell_type": "markdown",
   "metadata": {},
   "source": [
    "### Exporting as a CSV\n",
    "\n",
    "Exporting as a CSV is easy. Just call `to_csv()` on any data frame."
   ]
  },
  {
   "cell_type": "code",
   "execution_count": null,
   "metadata": {
    "collapsed": true
   },
   "outputs": [],
   "source": [
    "scherzer.to_csv('data/scherzer.csv')"
   ]
  },
  {
   "cell_type": "markdown",
   "metadata": {},
   "source": [
    "### Exporting a chart\n",
    "\n",
    "Exporting charts is also easy! But requires a bit of config if you want an SVG. "
   ]
  },
  {
   "cell_type": "code",
   "execution_count": null,
   "metadata": {
    "collapsed": true
   },
   "outputs": [],
   "source": [
    "%config InlineBackend.figure_format = 'svg'"
   ]
  },
  {
   "cell_type": "code",
   "execution_count": null,
   "metadata": {
    "scrolled": false
   },
   "outputs": [],
   "source": [
    "# plot a histogram by speed\n",
    "scherzer['release_speed'].plot(kind=\"hist\", bins=30, title=\"Histogram of pitches thrown by speed\")\n",
    "\n",
    "# Save to SVG\n",
    "plt.savefig('svg/scherzer_histogram.svg')"
   ]
  },
  {
   "cell_type": "markdown",
   "metadata": {
    "collapsed": true
   },
   "source": [
    "## Hello maps!\n",
    "\n",
    "Saved for another skillshare!"
   ]
  },
  {
   "cell_type": "markdown",
   "metadata": {},
   "source": [
    "## Useful links\n",
    "\n",
    "- [California crop production wages analysis](https://github.com/datadesk/california-crop-production-wages-analysis) good example of how to integrate notebooks into the reporting and analysis process. \n",
    "- [Sample notebooks from Microsoft Azure](https://notebooks.azure.com/) includes overviews of using Python, R, etc.\n",
    "- [28 Jupyter Notebook tips, tricks and shortcuts](https://www.dataquest.io/blog/jupyter-notebook-tips-tricks-shortcuts/) \n",
    "- [10 Python notebook tutorials for data science and machine learning](http://www.kdnuggets.com/2016/04/top-10-ipython-nb-tutorials.html)\n",
    "- [More keyboard shortcuts](https://gist.github.com/kidpixo/f4318f8c8143adee5b40) "
   ]
  }
 ],
 "metadata": {
  "kernelspec": {
   "display_name": "Python 2",
   "language": "python",
   "name": "python2"
  },
  "language_info": {
   "codemirror_mode": {
    "name": "ipython",
    "version": 2
   },
   "file_extension": ".py",
   "mimetype": "text/x-python",
   "name": "python",
   "nbconvert_exporter": "python",
   "pygments_lexer": "ipython2",
   "version": "2.7.13"
  }
 },
 "nbformat": 4,
 "nbformat_minor": 2
}
